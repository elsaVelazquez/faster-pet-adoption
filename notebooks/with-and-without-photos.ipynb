{
 "cells": [
  {
   "cell_type": "code",
   "execution_count": 1,
   "metadata": {},
   "outputs": [],
   "source": [
    "import pyspark as ps    # for the pyspark suite\n",
    "from pyspark.sql.types import *\n",
    "from datetime import datetime\n",
    "import json\n",
    "\n",
    "spark = ps.sql.SparkSession.builder \\\n",
    "            .master(\"local[4]\") \\\n",
    "            .appName(\"sparkSQL exercise\") \\\n",
    "            .getOrCreate()\n",
    "\n",
    "sc = spark.sparkContext "
   ]
  },
  {
   "cell_type": "code",
   "execution_count": 35,
   "metadata": {},
   "outputs": [],
   "source": [
    "def apply_json(input_lst):\n",
    "    try:\n",
    "        return json.loads(input_lst)['animals'][0]                                               \n",
    "    except:\n",
    "        return None"
   ]
  },
  {
   "cell_type": "code",
   "execution_count": 36,
   "metadata": {},
   "outputs": [],
   "source": [
    "# data_filepath = '../data/json_dump/output_4994.json'\n",
    "data_filepath = '../src/big_json.json'\n",
    "\n",
    "\n",
    "data = sc.textFile(data_filepath).map(apply_json) #reads in the json file"
   ]
  },
  {
   "cell_type": "code",
   "execution_count": 4,
   "metadata": {},
   "outputs": [
    {
     "name": "stdout",
     "output_type": "stream",
     "text": [
      "PythonRDD[2] at RDD at PythonRDD.scala:53\n"
     ]
    }
   ],
   "source": [
    "print(data)\n",
    "#create a pipeline to mash dataframes\n",
    "\n",
    "# df_temp = spark.read.json(data_filepath, multiLine = True)"
   ]
  },
  {
   "cell_type": "code",
   "execution_count": 5,
   "metadata": {},
   "outputs": [],
   "source": [
    "#remove outer dictionary from every file\n"
   ]
  },
  {
   "cell_type": "code",
   "execution_count": 6,
   "metadata": {},
   "outputs": [],
   "source": [
    "df = spark.read.json(data_filepath, multiLine = True)"
   ]
  },
  {
   "cell_type": "code",
   "execution_count": 7,
   "metadata": {},
   "outputs": [
    {
     "data": {
      "text/plain": [
       "100000"
      ]
     },
     "execution_count": 7,
     "metadata": {},
     "output_type": "execute_result"
    }
   ],
   "source": [
    "df.count()"
   ]
  },
  {
   "cell_type": "code",
   "execution_count": 8,
   "metadata": {},
   "outputs": [
    {
     "name": "stdout",
     "output_type": "stream",
     "text": [
      "+--------------------+-----+--------------------+--------------------+----+------+--------------------+--------------------+--------+-------------------+------+--------+---------+----------------------+---------------+------+---------------------+--------------------+------+-------+---------+--------------------+----+----+--------------------+------+\n",
      "|              _links|  age|          attributes|              breeds|coat|colors|             contact|         description|distance|        environment|gender|      id|     name|organization_animal_id|organization_id|photos|primary_photo_cropped|        published_at|  size|species|   status|   status_changed_at|tags|type|                 url|videos|\n",
      "+--------------------+-----+--------------------+--------------------+----+------+--------------------+--------------------+--------+-------------------+------+--------+---------+----------------------+---------------+------+---------------------+--------------------+------+-------+---------+--------------------+----+----+--------------------+------+\n",
      "|[[/v2/organizatio...|Young|[, false, false, ...|[true, Chihuahua,...|null|  [,,]|[[2200 Peabody Rd...|Oh Snap! Snap is ...|    null|               [,,]|Female|48549327|     Snap|              T2020299|          CA162|    []|                 null|2020-07-21T10:04:...| Small|    Dog|adoptable|2020-07-21T10:04:...|  []| Dog|https://www.petfi...|    []|\n",
      "|[[/v2/organizatio...|Adult|[, false, true, t...|[true, Labrador R...|null|  [,,]|[[195 Cloaca Lane...|Handsome fellow, ...|    null|               [,,]|  Male|48549326|      Red|                203092|           AR07|    []|                 null|2020-07-21T10:04:...| Large|    Dog|adoptable|2020-07-21T10:04:...|  []| Dog|https://www.petfi...|    []|\n",
      "|[[/v2/organizatio...|Adult|[, false, true, t...|[true, Shepherd, ...|null|  [,,]|[[2010 Arcadia St...|                null|    null|               [,,]|  Male|48549322|    Sammy|              D2020832|           FL96|    []|                 null|2020-07-21T10:04:...|Medium|    Dog|adoptable|2020-07-21T10:04:...|  []| Dog|https://www.petfi...|    []|\n",
      "|[[/v2/organizatio...|Adult|[, false, true, t...|[true, Shih Tzu, ...|null|  [,,]|[[2010 Arcadia St...|                null|    null|               [,,]|Female|48549323|    Becca|              D2020515|           FL96|    []|                 null|2020-07-21T10:04:...| Small|    Dog|adoptable|2020-07-21T10:04:...|  []| Dog|https://www.petfi...|    []|\n",
      "|[[/v2/organizatio...|Adult|[, false, true, t...|[true, Dachshund,...|null|  [,,]|[[2010 Arcadia St...|                null|    null|               [,,]|Female|48549325|    Reese|              D2020838|           FL96|    []|                 null|2020-07-21T10:04:...| Small|    Dog|adoptable|2020-07-21T10:04:...|  []| Dog|https://www.petfi...|    []|\n",
      "|[[/v2/organizatio...|Adult|[, false, true, t...|[true, Terrier, M...|null|  [,,]|[[2010 Arcadia St...|                null|    null|               [,,]|Female|48549318|    Amber|              D2020364|           FL96|    []|                 null|2020-07-21T10:04:...|Medium|    Dog|adoptable|2020-07-21T10:04:...|  []| Dog|https://www.petfi...|    []|\n",
      "|[[/v2/organizatio...|Young|[, true, true, tr...|[false, Chihuahua...|null|  [,,]|[[,, Columbia, US...|Meet Sassy/MS! Th...|    null|      [true,, true]|Female|48549314| Sassy/MS|              15860948|          TN270|    []|                 null|2020-07-21T10:03:...| Small|    Dog|adoptable|2020-07-21T10:03:...|  []| Dog|https://www.petfi...|    []|\n",
      "|[[/v2/organizatio...| Baby|[, false, true, t...|[true, Chihuahua,...|null|  [,,]|[[,, Columbia, US...|Meet Dashia/MS!! ...|    null| [true, true, true]|Female|48549315|Dashia/MS|              15860945|          TN270|    []|                 null|2020-07-21T10:03:...| Small|    Dog|adoptable|2020-07-21T10:03:...|  []| Dog|https://www.petfi...|    []|\n",
      "|[[/v2/organizatio...| Baby|[, false, true, t...|[true, Chihuahua,...|null|  [,,]|[[,, Columbia, US...|Meet Misty/MS!! T...|    null|[true, false, true]|Female|48549316| Misty/MS|              15860946|          TN270|    []|                 null|2020-07-21T10:03:...| Small|    Dog|adoptable|2020-07-21T10:03:...|  []| Dog|https://www.petfi...|    []|\n",
      "|[[/v2/organizatio...| Baby|[, false, true, t...|[true, Maltese, C...|null|  [,,]|[[,, Columbia, US...|Meet Macy/MS! Thi...|    null|      [true,, true]|Female|48549317|  Macy/MS|              15860947|          TN270|    []|                 null|2020-07-21T10:03:...| Small|    Dog|adoptable|2020-07-21T10:03:...|  []| Dog|https://www.petfi...|    []|\n",
      "|[[/v2/organizatio...| Baby|[, false, true, t...|[true, German She...|null|  [,,]|[[PO Box 8,, Dods...|Willie is an ador...|    null|      [true,, true]|  Male|48549312|   Willie|              15860941|           MT87|    []|                 null|2020-07-21T10:03:...| Large|    Dog|adoptable|2020-07-21T10:03:...|  []| Dog|https://www.petfi...|    []|\n",
      "|[[/v2/organizatio...|Young|[, false, false, ...|[true, Bull Terri...|null|  [,,]|[[PO Box 8,, Dods...|                null|    null|               [,,]|Female|48549313|     Webo|              15860938|           MT87|    []|                 null|2020-07-21T10:03:...|Medium|    Dog|adoptable|2020-07-21T10:03:...|  []| Dog|https://www.petfi...|    []|\n",
      "|[[/v2/organizatio...|Adult|[, false, true, f...|[false, Hound,, f...|null|  [,,]|[[P.O. Box 840215...|Interested in ado...|    null|               [,,]|  Male|48549306|     Tony|                A12229|          FL819|    []|                 null|2020-07-21T10:03:...|Medium|    Dog|adoptable|2020-07-21T10:03:...|  []| Dog|https://www.petfi...|    []|\n",
      "|[[/v2/organizatio...|Adult|[, false, true, f...|[false, Dachshund...|null|  [,,]|[[P.O. Box 840215...|Interested in ado...|    null|               [,,]|  Male|48549307|     Chip|                A12231|          FL819|    []|                 null|2020-07-21T10:03:...| Small|    Dog|adoptable|2020-07-21T10:03:...|  []| Dog|https://www.petfi...|    []|\n",
      "|[[/v2/organizatio...|Adult|[, false, true, f...|[false, Dachshund...|null|  [,,]|[[P.O. Box 840215...|Interested in ado...|    null|               [,,]|  Male|48549309|     Dale|                A12232|          FL819|    []|                 null|2020-07-21T10:03:...| Small|    Dog|adoptable|2020-07-21T10:03:...|  []| Dog|https://www.petfi...|    []|\n",
      "|[[/v2/organizatio...|Adult|[, false, true, t...|[true, Australian...|null|  [,,]|[[P.O. Box 840215...|Interested in ado...|    null|               [,,]|  Male|48549310|    Teddy|                A12167|          FL819|    []|                 null|2020-07-21T10:03:...| Large|    Dog|adoptable|2020-07-21T10:03:...|  []| Dog|https://www.petfi...|    []|\n",
      "|[[/v2/organizatio...|Young|[, false, true, f...|[false, Rottweile...|null|  [,,]|[[P.O. Box 840215...|Interested in ado...|    null|               [,,]|Female|48549311| Babygirl|                A12117|          FL819|    []|                 null|2020-07-21T10:03:...| Large|    Dog|adoptable|2020-07-21T10:03:...|  []| Dog|https://www.petfi...|    []|\n",
      "|[[/v2/organizatio...|Adult|[, false, false, ...|[false, Pit Bull ...|null|  [,,]|[[123 Dog Cat Lan...|If you are intere...|    null|               [,,]|Female|48549288|    Peggy|             D20201331|          SC461|    []|                 null|2020-07-21T10:03:...| Large|    Dog|adoptable|2020-07-21T10:03:...|  []| Dog|https://www.petfi...|    []|\n",
      "|[[/v2/organizatio...| Baby|[, true, true, fa...|[false, German Sh...|null|  [,,]|[[,, Dacula, US, ...|Luna is a little ...|    null|          [false,,]|Female|48549284|     Luna|              D2020060|          GA537|    []|                 null|2020-07-21T10:03:...| Large|    Dog|adoptable|2020-07-21T10:03:...|  []| Dog|https://www.petfi...|    []|\n",
      "|[[/v2/organizatio...|Young|[, false, false, ...|[false, Terrier,,...|null|  [,,]|[[,, Raleigh, US,...|If you are intere...|    null|               [,,]|  Male|48549285|    Bruno|              D2020125|          NC807|    []|                 null|2020-07-21T10:03:...|Medium|    Dog|adoptable|2020-07-21T10:03:...|  []| Dog|https://www.petfi...|    []|\n",
      "+--------------------+-----+--------------------+--------------------+----+------+--------------------+--------------------+--------+-------------------+------+--------+---------+----------------------+---------------+------+---------------------+--------------------+------+-------+---------+--------------------+----+----+--------------------+------+\n",
      "only showing top 20 rows\n",
      "\n"
     ]
    }
   ],
   "source": [
    "df.show(20)"
   ]
  },
  {
   "cell_type": "code",
   "execution_count": 9,
   "metadata": {},
   "outputs": [
    {
     "name": "stdout",
     "output_type": "stream",
     "text": [
      "root\n",
      " |-- _links: struct (nullable = true)\n",
      " |    |-- organization: struct (nullable = true)\n",
      " |    |    |-- href: string (nullable = true)\n",
      " |    |-- self: struct (nullable = true)\n",
      " |    |    |-- href: string (nullable = true)\n",
      " |    |-- type: struct (nullable = true)\n",
      " |    |    |-- href: string (nullable = true)\n",
      " |-- age: string (nullable = true)\n",
      " |-- attributes: struct (nullable = true)\n",
      " |    |-- declawed: string (nullable = true)\n",
      " |    |-- house_trained: boolean (nullable = true)\n",
      " |    |-- shots_current: boolean (nullable = true)\n",
      " |    |-- spayed_neutered: boolean (nullable = true)\n",
      " |    |-- special_needs: boolean (nullable = true)\n",
      " |-- breeds: struct (nullable = true)\n",
      " |    |-- mixed: boolean (nullable = true)\n",
      " |    |-- primary: string (nullable = true)\n",
      " |    |-- secondary: string (nullable = true)\n",
      " |    |-- unknown: boolean (nullable = true)\n",
      " |-- coat: string (nullable = true)\n",
      " |-- colors: struct (nullable = true)\n",
      " |    |-- primary: string (nullable = true)\n",
      " |    |-- secondary: string (nullable = true)\n",
      " |    |-- tertiary: string (nullable = true)\n",
      " |-- contact: struct (nullable = true)\n",
      " |    |-- address: struct (nullable = true)\n",
      " |    |    |-- address1: string (nullable = true)\n",
      " |    |    |-- address2: string (nullable = true)\n",
      " |    |    |-- city: string (nullable = true)\n",
      " |    |    |-- country: string (nullable = true)\n",
      " |    |    |-- postcode: string (nullable = true)\n",
      " |    |    |-- state: string (nullable = true)\n",
      " |    |-- email: string (nullable = true)\n",
      " |    |-- phone: string (nullable = true)\n",
      " |-- description: string (nullable = true)\n",
      " |-- distance: string (nullable = true)\n",
      " |-- environment: struct (nullable = true)\n",
      " |    |-- cats: boolean (nullable = true)\n",
      " |    |-- children: boolean (nullable = true)\n",
      " |    |-- dogs: boolean (nullable = true)\n",
      " |-- gender: string (nullable = true)\n",
      " |-- id: long (nullable = true)\n",
      " |-- name: string (nullable = true)\n",
      " |-- organization_animal_id: string (nullable = true)\n",
      " |-- organization_id: string (nullable = true)\n",
      " |-- photos: array (nullable = true)\n",
      " |    |-- element: struct (containsNull = true)\n",
      " |    |    |-- full: string (nullable = true)\n",
      " |    |    |-- large: string (nullable = true)\n",
      " |    |    |-- medium: string (nullable = true)\n",
      " |    |    |-- small: string (nullable = true)\n",
      " |-- primary_photo_cropped: struct (nullable = true)\n",
      " |    |-- full: string (nullable = true)\n",
      " |    |-- large: string (nullable = true)\n",
      " |    |-- medium: string (nullable = true)\n",
      " |    |-- small: string (nullable = true)\n",
      " |-- published_at: string (nullable = true)\n",
      " |-- size: string (nullable = true)\n",
      " |-- species: string (nullable = true)\n",
      " |-- status: string (nullable = true)\n",
      " |-- status_changed_at: string (nullable = true)\n",
      " |-- tags: array (nullable = true)\n",
      " |    |-- element: string (containsNull = true)\n",
      " |-- type: string (nullable = true)\n",
      " |-- url: string (nullable = true)\n",
      " |-- videos: array (nullable = true)\n",
      " |    |-- element: string (containsNull = true)\n",
      "\n"
     ]
    }
   ],
   "source": [
    "df.printSchema()"
   ]
  },
  {
   "cell_type": "code",
   "execution_count": null,
   "metadata": {},
   "outputs": [],
   "source": []
  },
  {
   "cell_type": "code",
   "execution_count": null,
   "metadata": {},
   "outputs": [],
   "source": []
  },
  {
   "cell_type": "code",
   "execution_count": 21,
   "metadata": {},
   "outputs": [],
   "source": [
    "df_age_gender = df.select('age', 'gender')"
   ]
  },
  {
   "cell_type": "code",
   "execution_count": 22,
   "metadata": {},
   "outputs": [
    {
     "data": {
      "text/plain": [
       "100000"
      ]
     },
     "execution_count": 22,
     "metadata": {},
     "output_type": "execute_result"
    }
   ],
   "source": [
    "df_age_gender.count()"
   ]
  },
  {
   "cell_type": "code",
   "execution_count": 23,
   "metadata": {},
   "outputs": [],
   "source": [
    "# photos_no_nans_df = df_photos.na.drop()\n",
    "# df_photos.na.fill(44020).show() \n",
    "plot_age_gender = result.toPandas()\n",
    "plot_age_gender['gender']\n",
    "plot_age_gender.dropna(inplace=True)"
   ]
  },
  {
   "cell_type": "code",
   "execution_count": 24,
   "metadata": {},
   "outputs": [],
   "source": [
    "# photos_no_nans_df .count()"
   ]
  },
  {
   "cell_type": "code",
   "execution_count": 25,
   "metadata": {},
   "outputs": [],
   "source": [
    "# photos_no_nans_df .show()"
   ]
  },
  {
   "cell_type": "code",
   "execution_count": 26,
   "metadata": {},
   "outputs": [
    {
     "data": {
      "text/plain": [
       "[Row(age='Young', gender='Female'),\n",
       " Row(age='Adult', gender='Male'),\n",
       " Row(age='Adult', gender='Male'),\n",
       " Row(age='Adult', gender='Female'),\n",
       " Row(age='Adult', gender='Female'),\n",
       " Row(age='Adult', gender='Female'),\n",
       " Row(age='Young', gender='Female'),\n",
       " Row(age='Baby', gender='Female'),\n",
       " Row(age='Baby', gender='Female'),\n",
       " Row(age='Baby', gender='Female'),\n",
       " Row(age='Baby', gender='Male'),\n",
       " Row(age='Young', gender='Female'),\n",
       " Row(age='Adult', gender='Male'),\n",
       " Row(age='Adult', gender='Male'),\n",
       " Row(age='Adult', gender='Male'),\n",
       " Row(age='Adult', gender='Male'),\n",
       " Row(age='Young', gender='Female'),\n",
       " Row(age='Adult', gender='Female'),\n",
       " Row(age='Baby', gender='Female'),\n",
       " Row(age='Young', gender='Male')]"
      ]
     },
     "execution_count": 26,
     "metadata": {},
     "output_type": "execute_result"
    }
   ],
   "source": [
    "df_age_gender.take(20)"
   ]
  },
  {
   "cell_type": "code",
   "execution_count": 27,
   "metadata": {},
   "outputs": [
    {
     "name": "stdout",
     "output_type": "stream",
     "text": [
      "root\n",
      " |-- age: string (nullable = true)\n",
      " |-- gender: string (nullable = true)\n",
      "\n"
     ]
    }
   ],
   "source": [
    "df_age_gender.printSchema()"
   ]
  },
  {
   "cell_type": "code",
   "execution_count": 29,
   "metadata": {},
   "outputs": [],
   "source": [
    "# dropped_df.createOrReplaceTempView(\"dog_data\")\n",
    "df_age_gender.createOrReplaceTempView(\"age_gender_data\")"
   ]
  },
  {
   "cell_type": "code",
   "execution_count": 30,
   "metadata": {},
   "outputs": [
    {
     "name": "stdout",
     "output_type": "stream",
     "text": [
      "+-----+------+\n",
      "|  age|gender|\n",
      "+-----+------+\n",
      "|Young|Female|\n",
      "|Adult|  Male|\n",
      "|Adult|  Male|\n",
      "|Adult|Female|\n",
      "|Adult|Female|\n",
      "|Adult|Female|\n",
      "|Young|Female|\n",
      "| Baby|Female|\n",
      "| Baby|Female|\n",
      "| Baby|Female|\n",
      "| Baby|  Male|\n",
      "|Young|Female|\n",
      "|Adult|  Male|\n",
      "|Adult|  Male|\n",
      "|Adult|  Male|\n",
      "|Adult|  Male|\n",
      "|Young|Female|\n",
      "|Adult|Female|\n",
      "| Baby|Female|\n",
      "|Young|  Male|\n",
      "+-----+------+\n",
      "only showing top 20 rows\n",
      "\n"
     ]
    }
   ],
   "source": [
    "df_age_gender.show()"
   ]
  },
  {
   "cell_type": "code",
   "execution_count": 31,
   "metadata": {},
   "outputs": [
    {
     "name": "stdout",
     "output_type": "stream",
     "text": [
      "+-----+------+\n",
      "|  age|gender|\n",
      "+-----+------+\n",
      "|Young|Female|\n",
      "|Adult|  Male|\n",
      "|Adult|  Male|\n",
      "|Adult|Female|\n",
      "|Adult|Female|\n",
      "|Adult|Female|\n",
      "|Young|Female|\n",
      "| Baby|Female|\n",
      "| Baby|Female|\n",
      "| Baby|Female|\n",
      "+-----+------+\n",
      "\n"
     ]
    }
   ],
   "source": [
    "test = spark.sql('''SELECT(*)\n",
    "                    FROM age_gender_data\n",
    "                    LIMIT 10''')\n",
    "test.show()"
   ]
  },
  {
   "cell_type": "code",
   "execution_count": null,
   "metadata": {},
   "outputs": [],
   "source": [
    "# result = spark.sql('''SELECT gender,   \n",
    "#                         COUNT(*) AS Number\n",
    "#                         FROM dog_data\n",
    "#                         GROUP BY gender\n",
    "#                         ORDER BY COUNT(*) desc''')\n",
    "# # result.show(20)"
   ]
  },
  {
   "cell_type": "code",
   "execution_count": 33,
   "metadata": {},
   "outputs": [
    {
     "ename": "AnalysisException",
     "evalue": "expression 'age_data.`age`' is neither present in the group by, nor is it an aggregate function. Add to group by or wrap in first() (or first_value) if you don't care which value you get.;;\nSort [Age#1 DESC NULLS LAST], true\n+- Aggregate [gender#10], [age#1, gender#10]\n   +- SubqueryAlias age_data\n      +- Project [age#1, gender#10]\n         +- Relation[_links#0,age#1,attributes#2,breeds#3,coat#4,colors#5,contact#6,description#7,distance#8,environment#9,gender#10,id#11L,name#12,organization_animal_id#13,organization_id#14,photos#15,primary_photo_cropped#16,published_at#17,size#18,species#19,status#20,status_changed_at#21,tags#22,type#23,... 2 more fields] json\n",
     "output_type": "error",
     "traceback": [
      "\u001b[0;31m---------------------------------------------------------------------------\u001b[0m",
      "\u001b[0;31mAnalysisException\u001b[0m                         Traceback (most recent call last)",
      "\u001b[0;32m<ipython-input-33-afdc7d1fec8a>\u001b[0m in \u001b[0;36m<module>\u001b[0;34m\u001b[0m\n\u001b[0;32m----> 1\u001b[0;31m result = spark.sql('''SELECT age, gender\n\u001b[0m\u001b[1;32m      2\u001b[0m                         \u001b[0mFROM\u001b[0m \u001b[0mage_data\u001b[0m\u001b[0;34m\u001b[0m\u001b[0;34m\u001b[0m\u001b[0m\n\u001b[1;32m      3\u001b[0m                         \u001b[0mGROUP\u001b[0m \u001b[0mBY\u001b[0m \u001b[0mgender\u001b[0m\u001b[0;34m\u001b[0m\u001b[0;34m\u001b[0m\u001b[0m\n\u001b[1;32m      4\u001b[0m                         ORDER BY Age desc''')\n\u001b[1;32m      5\u001b[0m \u001b[0;31m# result.show(20)\u001b[0m\u001b[0;34m\u001b[0m\u001b[0;34m\u001b[0m\u001b[0;34m\u001b[0m\u001b[0m\n",
      "\u001b[0;32m/usr/local/spark/python/pyspark/sql/session.py\u001b[0m in \u001b[0;36msql\u001b[0;34m(self, sqlQuery)\u001b[0m\n\u001b[1;32m    644\u001b[0m         \u001b[0;34m[\u001b[0m\u001b[0mRow\u001b[0m\u001b[0;34m(\u001b[0m\u001b[0mf1\u001b[0m\u001b[0;34m=\u001b[0m\u001b[0;36m1\u001b[0m\u001b[0;34m,\u001b[0m \u001b[0mf2\u001b[0m\u001b[0;34m=\u001b[0m\u001b[0;34mu'row1'\u001b[0m\u001b[0;34m)\u001b[0m\u001b[0;34m,\u001b[0m \u001b[0mRow\u001b[0m\u001b[0;34m(\u001b[0m\u001b[0mf1\u001b[0m\u001b[0;34m=\u001b[0m\u001b[0;36m2\u001b[0m\u001b[0;34m,\u001b[0m \u001b[0mf2\u001b[0m\u001b[0;34m=\u001b[0m\u001b[0;34mu'row2'\u001b[0m\u001b[0;34m)\u001b[0m\u001b[0;34m,\u001b[0m \u001b[0mRow\u001b[0m\u001b[0;34m(\u001b[0m\u001b[0mf1\u001b[0m\u001b[0;34m=\u001b[0m\u001b[0;36m3\u001b[0m\u001b[0;34m,\u001b[0m \u001b[0mf2\u001b[0m\u001b[0;34m=\u001b[0m\u001b[0;34mu'row3'\u001b[0m\u001b[0;34m)\u001b[0m\u001b[0;34m]\u001b[0m\u001b[0;34m\u001b[0m\u001b[0;34m\u001b[0m\u001b[0m\n\u001b[1;32m    645\u001b[0m         \"\"\"\n\u001b[0;32m--> 646\u001b[0;31m         \u001b[0;32mreturn\u001b[0m \u001b[0mDataFrame\u001b[0m\u001b[0;34m(\u001b[0m\u001b[0mself\u001b[0m\u001b[0;34m.\u001b[0m\u001b[0m_jsparkSession\u001b[0m\u001b[0;34m.\u001b[0m\u001b[0msql\u001b[0m\u001b[0;34m(\u001b[0m\u001b[0msqlQuery\u001b[0m\u001b[0;34m)\u001b[0m\u001b[0;34m,\u001b[0m \u001b[0mself\u001b[0m\u001b[0;34m.\u001b[0m\u001b[0m_wrapped\u001b[0m\u001b[0;34m)\u001b[0m\u001b[0;34m\u001b[0m\u001b[0;34m\u001b[0m\u001b[0m\n\u001b[0m\u001b[1;32m    647\u001b[0m \u001b[0;34m\u001b[0m\u001b[0m\n\u001b[1;32m    648\u001b[0m     \u001b[0;34m@\u001b[0m\u001b[0msince\u001b[0m\u001b[0;34m(\u001b[0m\u001b[0;36m2.0\u001b[0m\u001b[0;34m)\u001b[0m\u001b[0;34m\u001b[0m\u001b[0;34m\u001b[0m\u001b[0m\n",
      "\u001b[0;32m/usr/local/spark/python/lib/py4j-0.10.9-src.zip/py4j/java_gateway.py\u001b[0m in \u001b[0;36m__call__\u001b[0;34m(self, *args)\u001b[0m\n\u001b[1;32m   1302\u001b[0m \u001b[0;34m\u001b[0m\u001b[0m\n\u001b[1;32m   1303\u001b[0m         \u001b[0manswer\u001b[0m \u001b[0;34m=\u001b[0m \u001b[0mself\u001b[0m\u001b[0;34m.\u001b[0m\u001b[0mgateway_client\u001b[0m\u001b[0;34m.\u001b[0m\u001b[0msend_command\u001b[0m\u001b[0;34m(\u001b[0m\u001b[0mcommand\u001b[0m\u001b[0;34m)\u001b[0m\u001b[0;34m\u001b[0m\u001b[0;34m\u001b[0m\u001b[0m\n\u001b[0;32m-> 1304\u001b[0;31m         return_value = get_return_value(\n\u001b[0m\u001b[1;32m   1305\u001b[0m             answer, self.gateway_client, self.target_id, self.name)\n\u001b[1;32m   1306\u001b[0m \u001b[0;34m\u001b[0m\u001b[0m\n",
      "\u001b[0;32m/usr/local/spark/python/pyspark/sql/utils.py\u001b[0m in \u001b[0;36mdeco\u001b[0;34m(*a, **kw)\u001b[0m\n\u001b[1;32m    135\u001b[0m                 \u001b[0;31m# Hide where the exception came from that shows a non-Pythonic\u001b[0m\u001b[0;34m\u001b[0m\u001b[0;34m\u001b[0m\u001b[0;34m\u001b[0m\u001b[0m\n\u001b[1;32m    136\u001b[0m                 \u001b[0;31m# JVM exception message.\u001b[0m\u001b[0;34m\u001b[0m\u001b[0;34m\u001b[0m\u001b[0;34m\u001b[0m\u001b[0m\n\u001b[0;32m--> 137\u001b[0;31m                 \u001b[0mraise_from\u001b[0m\u001b[0;34m(\u001b[0m\u001b[0mconverted\u001b[0m\u001b[0;34m)\u001b[0m\u001b[0;34m\u001b[0m\u001b[0;34m\u001b[0m\u001b[0m\n\u001b[0m\u001b[1;32m    138\u001b[0m             \u001b[0;32melse\u001b[0m\u001b[0;34m:\u001b[0m\u001b[0;34m\u001b[0m\u001b[0;34m\u001b[0m\u001b[0m\n\u001b[1;32m    139\u001b[0m                 \u001b[0;32mraise\u001b[0m\u001b[0;34m\u001b[0m\u001b[0;34m\u001b[0m\u001b[0m\n",
      "\u001b[0;32m/usr/local/spark/python/pyspark/sql/utils.py\u001b[0m in \u001b[0;36mraise_from\u001b[0;34m(e)\u001b[0m\n",
      "\u001b[0;31mAnalysisException\u001b[0m: expression 'age_data.`age`' is neither present in the group by, nor is it an aggregate function. Add to group by or wrap in first() (or first_value) if you don't care which value you get.;;\nSort [Age#1 DESC NULLS LAST], true\n+- Aggregate [gender#10], [age#1, gender#10]\n   +- SubqueryAlias age_data\n      +- Project [age#1, gender#10]\n         +- Relation[_links#0,age#1,attributes#2,breeds#3,coat#4,colors#5,contact#6,description#7,distance#8,environment#9,gender#10,id#11L,name#12,organization_animal_id#13,organization_id#14,photos#15,primary_photo_cropped#16,published_at#17,size#18,species#19,status#20,status_changed_at#21,tags#22,type#23,... 2 more fields] json\n"
     ]
    }
   ],
   "source": [
    "result = spark.sql('''SELECT age, gender\n",
    "                        FROM age_data\n",
    "                        GROUP BY gender\n",
    "                        ORDER BY Age desc''')\n",
    "# result.show(20)"
   ]
  },
  {
   "cell_type": "code",
   "execution_count": null,
   "metadata": {},
   "outputs": [],
   "source": [
    "df_new.count()"
   ]
  },
  {
   "cell_type": "code",
   "execution_count": null,
   "metadata": {},
   "outputs": [],
   "source": [
    "plot_gender = result.toPandas()\n",
    "plot_gender['gender']\n",
    "plot_gender.dropna(inplace=True)"
   ]
  },
  {
   "cell_type": "code",
   "execution_count": null,
   "metadata": {},
   "outputs": [],
   "source": [
    "import matplotlib.pyplot as plt\n",
    "fig, ax = plt.subplots(1, figsize=(10,3))\n",
    "ax.bar(x = plot_gender['gender'], height=plot_gender['Number'])\n",
    "ax.set_title(\"Count of Dogs by Gender\")\n",
    "\n",
    "ax.set_xlabel('Gender')\n",
    "ax.set_ylabel('Number of Dogs')\n",
    "plt.tight_layout()\n",
    "plt.show()"
   ]
  },
  {
   "cell_type": "code",
   "execution_count": null,
   "metadata": {},
   "outputs": [],
   "source": []
  },
  {
   "cell_type": "code",
   "execution_count": null,
   "metadata": {},
   "outputs": [],
   "source": []
  }
 ],
 "metadata": {
  "kernelspec": {
   "display_name": "Python 3",
   "language": "python",
   "name": "python3"
  },
  "language_info": {
   "codemirror_mode": {
    "name": "ipython",
    "version": 3
   },
   "file_extension": ".py",
   "mimetype": "text/x-python",
   "name": "python",
   "nbconvert_exporter": "python",
   "pygments_lexer": "ipython3",
   "version": "3.8.3"
  }
 },
 "nbformat": 4,
 "nbformat_minor": 4
}
