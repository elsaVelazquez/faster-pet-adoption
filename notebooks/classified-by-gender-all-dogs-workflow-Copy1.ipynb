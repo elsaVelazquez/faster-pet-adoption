{
 "cells": [
  {
   "cell_type": "code",
   "execution_count": 1,
   "metadata": {},
   "outputs": [],
   "source": [
    "import pyspark as ps    # for the pyspark suite\n",
    "from pyspark.sql.types import *\n",
    "from datetime import datetime\n",
    "import json\n",
    "\n",
    "spark = ps.sql.SparkSession.builder \\\n",
    "            .master(\"local[4]\") \\\n",
    "            .appName(\"sparkSQL exercise\") \\\n",
    "            .getOrCreate()\n",
    "\n",
    "sc = spark.sparkContext "
   ]
  },
  {
   "cell_type": "code",
   "execution_count": 2,
   "metadata": {},
   "outputs": [],
   "source": [
    "def apply_json(input_lst):\n",
    "    try:\n",
    "        return json.loads(input_lst)['animals'][0]                                               \n",
    "    except:\n",
    "        return None"
   ]
  },
  {
   "cell_type": "code",
   "execution_count": 3,
   "metadata": {},
   "outputs": [],
   "source": [
    "# data_filepath = '../data/json_dump/output_4994.json'\n",
    "data_filepath = '../src/big_json.json'\n",
    "\n",
    "\n",
    "data = sc.textFile(data_filepath).map(apply_json) #reads in the json file"
   ]
  },
  {
   "cell_type": "code",
   "execution_count": 4,
   "metadata": {},
   "outputs": [
    {
     "name": "stdout",
     "output_type": "stream",
     "text": [
      "PythonRDD[2] at RDD at PythonRDD.scala:53\n"
     ]
    }
   ],
   "source": [
    "print(data)\n",
    "#create a pipeline to mash dataframes\n",
    "\n",
    "# df_temp = spark.read.json(data_filepath, multiLine = True)"
   ]
  },
  {
   "cell_type": "code",
   "execution_count": 5,
   "metadata": {},
   "outputs": [],
   "source": [
    "#remove outer dictionary from every file\n"
   ]
  },
  {
   "cell_type": "code",
   "execution_count": 6,
   "metadata": {},
   "outputs": [],
   "source": [
    "df = spark.read.json(data_filepath, multiLine = True)"
   ]
  },
  {
   "cell_type": "code",
   "execution_count": 7,
   "metadata": {},
   "outputs": [
    {
     "data": {
      "text/plain": [
       "100000"
      ]
     },
     "execution_count": 7,
     "metadata": {},
     "output_type": "execute_result"
    }
   ],
   "source": [
    "df.count()"
   ]
  },
  {
   "cell_type": "code",
   "execution_count": 8,
   "metadata": {},
   "outputs": [
    {
     "name": "stdout",
     "output_type": "stream",
     "text": [
      "+--------------------+-----+--------------------+--------------------+----+------+--------------------+--------------------+--------+-------------------+------+--------+---------+----------------------+---------------+------+---------------------+--------------------+------+-------+---------+--------------------+----+----+--------------------+------+\n",
      "|              _links|  age|          attributes|              breeds|coat|colors|             contact|         description|distance|        environment|gender|      id|     name|organization_animal_id|organization_id|photos|primary_photo_cropped|        published_at|  size|species|   status|   status_changed_at|tags|type|                 url|videos|\n",
      "+--------------------+-----+--------------------+--------------------+----+------+--------------------+--------------------+--------+-------------------+------+--------+---------+----------------------+---------------+------+---------------------+--------------------+------+-------+---------+--------------------+----+----+--------------------+------+\n",
      "|[[/v2/organizatio...|Young|[, false, false, ...|[true, Chihuahua,...|null|  [,,]|[[2200 Peabody Rd...|Oh Snap! Snap is ...|    null|               [,,]|Female|48549327|     Snap|              T2020299|          CA162|    []|                 null|2020-07-21T10:04:...| Small|    Dog|adoptable|2020-07-21T10:04:...|  []| Dog|https://www.petfi...|    []|\n",
      "|[[/v2/organizatio...|Adult|[, false, true, t...|[true, Labrador R...|null|  [,,]|[[195 Cloaca Lane...|Handsome fellow, ...|    null|               [,,]|  Male|48549326|      Red|                203092|           AR07|    []|                 null|2020-07-21T10:04:...| Large|    Dog|adoptable|2020-07-21T10:04:...|  []| Dog|https://www.petfi...|    []|\n",
      "|[[/v2/organizatio...|Adult|[, false, true, t...|[true, Shepherd, ...|null|  [,,]|[[2010 Arcadia St...|                null|    null|               [,,]|  Male|48549322|    Sammy|              D2020832|           FL96|    []|                 null|2020-07-21T10:04:...|Medium|    Dog|adoptable|2020-07-21T10:04:...|  []| Dog|https://www.petfi...|    []|\n",
      "|[[/v2/organizatio...|Adult|[, false, true, t...|[true, Shih Tzu, ...|null|  [,,]|[[2010 Arcadia St...|                null|    null|               [,,]|Female|48549323|    Becca|              D2020515|           FL96|    []|                 null|2020-07-21T10:04:...| Small|    Dog|adoptable|2020-07-21T10:04:...|  []| Dog|https://www.petfi...|    []|\n",
      "|[[/v2/organizatio...|Adult|[, false, true, t...|[true, Dachshund,...|null|  [,,]|[[2010 Arcadia St...|                null|    null|               [,,]|Female|48549325|    Reese|              D2020838|           FL96|    []|                 null|2020-07-21T10:04:...| Small|    Dog|adoptable|2020-07-21T10:04:...|  []| Dog|https://www.petfi...|    []|\n",
      "|[[/v2/organizatio...|Adult|[, false, true, t...|[true, Terrier, M...|null|  [,,]|[[2010 Arcadia St...|                null|    null|               [,,]|Female|48549318|    Amber|              D2020364|           FL96|    []|                 null|2020-07-21T10:04:...|Medium|    Dog|adoptable|2020-07-21T10:04:...|  []| Dog|https://www.petfi...|    []|\n",
      "|[[/v2/organizatio...|Young|[, true, true, tr...|[false, Chihuahua...|null|  [,,]|[[,, Columbia, US...|Meet Sassy/MS! Th...|    null|      [true,, true]|Female|48549314| Sassy/MS|              15860948|          TN270|    []|                 null|2020-07-21T10:03:...| Small|    Dog|adoptable|2020-07-21T10:03:...|  []| Dog|https://www.petfi...|    []|\n",
      "|[[/v2/organizatio...| Baby|[, false, true, t...|[true, Chihuahua,...|null|  [,,]|[[,, Columbia, US...|Meet Dashia/MS!! ...|    null| [true, true, true]|Female|48549315|Dashia/MS|              15860945|          TN270|    []|                 null|2020-07-21T10:03:...| Small|    Dog|adoptable|2020-07-21T10:03:...|  []| Dog|https://www.petfi...|    []|\n",
      "|[[/v2/organizatio...| Baby|[, false, true, t...|[true, Chihuahua,...|null|  [,,]|[[,, Columbia, US...|Meet Misty/MS!! T...|    null|[true, false, true]|Female|48549316| Misty/MS|              15860946|          TN270|    []|                 null|2020-07-21T10:03:...| Small|    Dog|adoptable|2020-07-21T10:03:...|  []| Dog|https://www.petfi...|    []|\n",
      "|[[/v2/organizatio...| Baby|[, false, true, t...|[true, Maltese, C...|null|  [,,]|[[,, Columbia, US...|Meet Macy/MS! Thi...|    null|      [true,, true]|Female|48549317|  Macy/MS|              15860947|          TN270|    []|                 null|2020-07-21T10:03:...| Small|    Dog|adoptable|2020-07-21T10:03:...|  []| Dog|https://www.petfi...|    []|\n",
      "|[[/v2/organizatio...| Baby|[, false, true, t...|[true, German She...|null|  [,,]|[[PO Box 8,, Dods...|Willie is an ador...|    null|      [true,, true]|  Male|48549312|   Willie|              15860941|           MT87|    []|                 null|2020-07-21T10:03:...| Large|    Dog|adoptable|2020-07-21T10:03:...|  []| Dog|https://www.petfi...|    []|\n",
      "|[[/v2/organizatio...|Young|[, false, false, ...|[true, Bull Terri...|null|  [,,]|[[PO Box 8,, Dods...|                null|    null|               [,,]|Female|48549313|     Webo|              15860938|           MT87|    []|                 null|2020-07-21T10:03:...|Medium|    Dog|adoptable|2020-07-21T10:03:...|  []| Dog|https://www.petfi...|    []|\n",
      "|[[/v2/organizatio...|Adult|[, false, true, f...|[false, Hound,, f...|null|  [,,]|[[P.O. Box 840215...|Interested in ado...|    null|               [,,]|  Male|48549306|     Tony|                A12229|          FL819|    []|                 null|2020-07-21T10:03:...|Medium|    Dog|adoptable|2020-07-21T10:03:...|  []| Dog|https://www.petfi...|    []|\n",
      "|[[/v2/organizatio...|Adult|[, false, true, f...|[false, Dachshund...|null|  [,,]|[[P.O. Box 840215...|Interested in ado...|    null|               [,,]|  Male|48549307|     Chip|                A12231|          FL819|    []|                 null|2020-07-21T10:03:...| Small|    Dog|adoptable|2020-07-21T10:03:...|  []| Dog|https://www.petfi...|    []|\n",
      "|[[/v2/organizatio...|Adult|[, false, true, f...|[false, Dachshund...|null|  [,,]|[[P.O. Box 840215...|Interested in ado...|    null|               [,,]|  Male|48549309|     Dale|                A12232|          FL819|    []|                 null|2020-07-21T10:03:...| Small|    Dog|adoptable|2020-07-21T10:03:...|  []| Dog|https://www.petfi...|    []|\n",
      "|[[/v2/organizatio...|Adult|[, false, true, t...|[true, Australian...|null|  [,,]|[[P.O. Box 840215...|Interested in ado...|    null|               [,,]|  Male|48549310|    Teddy|                A12167|          FL819|    []|                 null|2020-07-21T10:03:...| Large|    Dog|adoptable|2020-07-21T10:03:...|  []| Dog|https://www.petfi...|    []|\n",
      "|[[/v2/organizatio...|Young|[, false, true, f...|[false, Rottweile...|null|  [,,]|[[P.O. Box 840215...|Interested in ado...|    null|               [,,]|Female|48549311| Babygirl|                A12117|          FL819|    []|                 null|2020-07-21T10:03:...| Large|    Dog|adoptable|2020-07-21T10:03:...|  []| Dog|https://www.petfi...|    []|\n",
      "|[[/v2/organizatio...|Adult|[, false, false, ...|[false, Pit Bull ...|null|  [,,]|[[123 Dog Cat Lan...|If you are intere...|    null|               [,,]|Female|48549288|    Peggy|             D20201331|          SC461|    []|                 null|2020-07-21T10:03:...| Large|    Dog|adoptable|2020-07-21T10:03:...|  []| Dog|https://www.petfi...|    []|\n",
      "|[[/v2/organizatio...| Baby|[, true, true, fa...|[false, German Sh...|null|  [,,]|[[,, Dacula, US, ...|Luna is a little ...|    null|          [false,,]|Female|48549284|     Luna|              D2020060|          GA537|    []|                 null|2020-07-21T10:03:...| Large|    Dog|adoptable|2020-07-21T10:03:...|  []| Dog|https://www.petfi...|    []|\n",
      "|[[/v2/organizatio...|Young|[, false, false, ...|[false, Terrier,,...|null|  [,,]|[[,, Raleigh, US,...|If you are intere...|    null|               [,,]|  Male|48549285|    Bruno|              D2020125|          NC807|    []|                 null|2020-07-21T10:03:...|Medium|    Dog|adoptable|2020-07-21T10:03:...|  []| Dog|https://www.petfi...|    []|\n",
      "+--------------------+-----+--------------------+--------------------+----+------+--------------------+--------------------+--------+-------------------+------+--------+---------+----------------------+---------------+------+---------------------+--------------------+------+-------+---------+--------------------+----+----+--------------------+------+\n",
      "only showing top 20 rows\n",
      "\n"
     ]
    }
   ],
   "source": [
    "df.show(20)"
   ]
  },
  {
   "cell_type": "code",
   "execution_count": 9,
   "metadata": {},
   "outputs": [
    {
     "name": "stdout",
     "output_type": "stream",
     "text": [
      "root\n",
      " |-- _links: struct (nullable = true)\n",
      " |    |-- organization: struct (nullable = true)\n",
      " |    |    |-- href: string (nullable = true)\n",
      " |    |-- self: struct (nullable = true)\n",
      " |    |    |-- href: string (nullable = true)\n",
      " |    |-- type: struct (nullable = true)\n",
      " |    |    |-- href: string (nullable = true)\n",
      " |-- age: string (nullable = true)\n",
      " |-- attributes: struct (nullable = true)\n",
      " |    |-- declawed: string (nullable = true)\n",
      " |    |-- house_trained: boolean (nullable = true)\n",
      " |    |-- shots_current: boolean (nullable = true)\n",
      " |    |-- spayed_neutered: boolean (nullable = true)\n",
      " |    |-- special_needs: boolean (nullable = true)\n",
      " |-- breeds: struct (nullable = true)\n",
      " |    |-- mixed: boolean (nullable = true)\n",
      " |    |-- primary: string (nullable = true)\n",
      " |    |-- secondary: string (nullable = true)\n",
      " |    |-- unknown: boolean (nullable = true)\n",
      " |-- coat: string (nullable = true)\n",
      " |-- colors: struct (nullable = true)\n",
      " |    |-- primary: string (nullable = true)\n",
      " |    |-- secondary: string (nullable = true)\n",
      " |    |-- tertiary: string (nullable = true)\n",
      " |-- contact: struct (nullable = true)\n",
      " |    |-- address: struct (nullable = true)\n",
      " |    |    |-- address1: string (nullable = true)\n",
      " |    |    |-- address2: string (nullable = true)\n",
      " |    |    |-- city: string (nullable = true)\n",
      " |    |    |-- country: string (nullable = true)\n",
      " |    |    |-- postcode: string (nullable = true)\n",
      " |    |    |-- state: string (nullable = true)\n",
      " |    |-- email: string (nullable = true)\n",
      " |    |-- phone: string (nullable = true)\n",
      " |-- description: string (nullable = true)\n",
      " |-- distance: string (nullable = true)\n",
      " |-- environment: struct (nullable = true)\n",
      " |    |-- cats: boolean (nullable = true)\n",
      " |    |-- children: boolean (nullable = true)\n",
      " |    |-- dogs: boolean (nullable = true)\n",
      " |-- gender: string (nullable = true)\n",
      " |-- id: long (nullable = true)\n",
      " |-- name: string (nullable = true)\n",
      " |-- organization_animal_id: string (nullable = true)\n",
      " |-- organization_id: string (nullable = true)\n",
      " |-- photos: array (nullable = true)\n",
      " |    |-- element: struct (containsNull = true)\n",
      " |    |    |-- full: string (nullable = true)\n",
      " |    |    |-- large: string (nullable = true)\n",
      " |    |    |-- medium: string (nullable = true)\n",
      " |    |    |-- small: string (nullable = true)\n",
      " |-- primary_photo_cropped: struct (nullable = true)\n",
      " |    |-- full: string (nullable = true)\n",
      " |    |-- large: string (nullable = true)\n",
      " |    |-- medium: string (nullable = true)\n",
      " |    |-- small: string (nullable = true)\n",
      " |-- published_at: string (nullable = true)\n",
      " |-- size: string (nullable = true)\n",
      " |-- species: string (nullable = true)\n",
      " |-- status: string (nullable = true)\n",
      " |-- status_changed_at: string (nullable = true)\n",
      " |-- tags: array (nullable = true)\n",
      " |    |-- element: string (containsNull = true)\n",
      " |-- type: string (nullable = true)\n",
      " |-- url: string (nullable = true)\n",
      " |-- videos: array (nullable = true)\n",
      " |    |-- element: string (containsNull = true)\n",
      "\n"
     ]
    }
   ],
   "source": [
    "df.printSchema()"
   ]
  },
  {
   "cell_type": "code",
   "execution_count": null,
   "metadata": {},
   "outputs": [],
   "source": []
  },
  {
   "cell_type": "code",
   "execution_count": 10,
   "metadata": {},
   "outputs": [
    {
     "name": "stdout",
     "output_type": "stream",
     "text": [
      "+--------------------+-----+--------------------+--------------------+----+------+--------------------+--------------------+--------+-------------------+------+--------+---------+----------------------+---------------+------+---------------------+--------------------+------+-------+---------+--------------------+----+----+--------------------+------+\n",
      "|              _links|  age|          attributes|              breeds|coat|colors|             contact|         description|distance|        environment|gender|      id|     name|organization_animal_id|organization_id|photos|primary_photo_cropped|        published_at|  size|species|   status|   status_changed_at|tags|type|                 url|videos|\n",
      "+--------------------+-----+--------------------+--------------------+----+------+--------------------+--------------------+--------+-------------------+------+--------+---------+----------------------+---------------+------+---------------------+--------------------+------+-------+---------+--------------------+----+----+--------------------+------+\n",
      "|[[/v2/organizatio...|Young|[, false, false, ...|[true, Chihuahua,...|null|  [,,]|[[2200 Peabody Rd...|Oh Snap! Snap is ...|    null|               [,,]|Female|48549327|     Snap|              T2020299|          CA162|    []|                 null|2020-07-21T10:04:...| Small|    Dog|adoptable|2020-07-21T10:04:...|  []| Dog|https://www.petfi...|    []|\n",
      "|[[/v2/organizatio...|Adult|[, false, true, t...|[true, Labrador R...|null|  [,,]|[[195 Cloaca Lane...|Handsome fellow, ...|    null|               [,,]|  Male|48549326|      Red|                203092|           AR07|    []|                 null|2020-07-21T10:04:...| Large|    Dog|adoptable|2020-07-21T10:04:...|  []| Dog|https://www.petfi...|    []|\n",
      "|[[/v2/organizatio...|Adult|[, false, true, t...|[true, Shepherd, ...|null|  [,,]|[[2010 Arcadia St...|                null|    null|               [,,]|  Male|48549322|    Sammy|              D2020832|           FL96|    []|                 null|2020-07-21T10:04:...|Medium|    Dog|adoptable|2020-07-21T10:04:...|  []| Dog|https://www.petfi...|    []|\n",
      "|[[/v2/organizatio...|Adult|[, false, true, t...|[true, Shih Tzu, ...|null|  [,,]|[[2010 Arcadia St...|                null|    null|               [,,]|Female|48549323|    Becca|              D2020515|           FL96|    []|                 null|2020-07-21T10:04:...| Small|    Dog|adoptable|2020-07-21T10:04:...|  []| Dog|https://www.petfi...|    []|\n",
      "|[[/v2/organizatio...|Adult|[, false, true, t...|[true, Dachshund,...|null|  [,,]|[[2010 Arcadia St...|                null|    null|               [,,]|Female|48549325|    Reese|              D2020838|           FL96|    []|                 null|2020-07-21T10:04:...| Small|    Dog|adoptable|2020-07-21T10:04:...|  []| Dog|https://www.petfi...|    []|\n",
      "|[[/v2/organizatio...|Adult|[, false, true, t...|[true, Terrier, M...|null|  [,,]|[[2010 Arcadia St...|                null|    null|               [,,]|Female|48549318|    Amber|              D2020364|           FL96|    []|                 null|2020-07-21T10:04:...|Medium|    Dog|adoptable|2020-07-21T10:04:...|  []| Dog|https://www.petfi...|    []|\n",
      "|[[/v2/organizatio...|Young|[, true, true, tr...|[false, Chihuahua...|null|  [,,]|[[,, Columbia, US...|Meet Sassy/MS! Th...|    null|      [true,, true]|Female|48549314| Sassy/MS|              15860948|          TN270|    []|                 null|2020-07-21T10:03:...| Small|    Dog|adoptable|2020-07-21T10:03:...|  []| Dog|https://www.petfi...|    []|\n",
      "|[[/v2/organizatio...| Baby|[, false, true, t...|[true, Chihuahua,...|null|  [,,]|[[,, Columbia, US...|Meet Dashia/MS!! ...|    null| [true, true, true]|Female|48549315|Dashia/MS|              15860945|          TN270|    []|                 null|2020-07-21T10:03:...| Small|    Dog|adoptable|2020-07-21T10:03:...|  []| Dog|https://www.petfi...|    []|\n",
      "|[[/v2/organizatio...| Baby|[, false, true, t...|[true, Chihuahua,...|null|  [,,]|[[,, Columbia, US...|Meet Misty/MS!! T...|    null|[true, false, true]|Female|48549316| Misty/MS|              15860946|          TN270|    []|                 null|2020-07-21T10:03:...| Small|    Dog|adoptable|2020-07-21T10:03:...|  []| Dog|https://www.petfi...|    []|\n",
      "|[[/v2/organizatio...| Baby|[, false, true, t...|[true, Maltese, C...|null|  [,,]|[[,, Columbia, US...|Meet Macy/MS! Thi...|    null|      [true,, true]|Female|48549317|  Macy/MS|              15860947|          TN270|    []|                 null|2020-07-21T10:03:...| Small|    Dog|adoptable|2020-07-21T10:03:...|  []| Dog|https://www.petfi...|    []|\n",
      "+--------------------+-----+--------------------+--------------------+----+------+--------------------+--------------------+--------+-------------------+------+--------+---------+----------------------+---------------+------+---------------------+--------------------+------+-------+---------+--------------------+----+----+--------------------+------+\n",
      "only showing top 10 rows\n",
      "\n"
     ]
    }
   ],
   "source": [
    "df.show(10)"
   ]
  },
  {
   "cell_type": "code",
   "execution_count": 11,
   "metadata": {},
   "outputs": [],
   "source": [
    "df_age_gender = df.select('age', 'gender')"
   ]
  },
  {
   "cell_type": "code",
   "execution_count": 12,
   "metadata": {},
   "outputs": [
    {
     "data": {
      "text/plain": [
       "100000"
      ]
     },
     "execution_count": 12,
     "metadata": {},
     "output_type": "execute_result"
    }
   ],
   "source": [
    "df_age_gender.count()"
   ]
  },
  {
   "cell_type": "code",
   "execution_count": 13,
   "metadata": {},
   "outputs": [],
   "source": [
    "df_clean_age_gender = df_age_gender.na.drop()"
   ]
  },
  {
   "cell_type": "code",
   "execution_count": 14,
   "metadata": {},
   "outputs": [
    {
     "data": {
      "text/plain": [
       "100000"
      ]
     },
     "execution_count": 14,
     "metadata": {},
     "output_type": "execute_result"
    }
   ],
   "source": [
    "df_clean_age_gender.count()"
   ]
  },
  {
   "cell_type": "code",
   "execution_count": 15,
   "metadata": {},
   "outputs": [
    {
     "name": "stdout",
     "output_type": "stream",
     "text": [
      "+-----+------+\n",
      "|  age|gender|\n",
      "+-----+------+\n",
      "|Young|Female|\n",
      "|Adult|  Male|\n",
      "|Adult|  Male|\n",
      "|Adult|Female|\n",
      "|Adult|Female|\n",
      "|Adult|Female|\n",
      "|Young|Female|\n",
      "| Baby|Female|\n",
      "| Baby|Female|\n",
      "| Baby|Female|\n",
      "| Baby|  Male|\n",
      "|Young|Female|\n",
      "|Adult|  Male|\n",
      "|Adult|  Male|\n",
      "|Adult|  Male|\n",
      "|Adult|  Male|\n",
      "|Young|Female|\n",
      "|Adult|Female|\n",
      "| Baby|Female|\n",
      "|Young|  Male|\n",
      "+-----+------+\n",
      "only showing top 20 rows\n",
      "\n"
     ]
    }
   ],
   "source": [
    "df_clean_age_gender.show()"
   ]
  },
  {
   "cell_type": "code",
   "execution_count": 16,
   "metadata": {},
   "outputs": [
    {
     "name": "stdout",
     "output_type": "stream",
     "text": [
      "root\n",
      " |-- age: string (nullable = true)\n",
      " |-- gender: string (nullable = true)\n",
      "\n"
     ]
    }
   ],
   "source": [
    "df_clean_age_gender.printSchema()"
   ]
  },
  {
   "cell_type": "code",
   "execution_count": 17,
   "metadata": {},
   "outputs": [
    {
     "ename": "NameError",
     "evalue": "name 'explode' is not defined",
     "output_type": "error",
     "traceback": [
      "\u001b[0;31m---------------------------------------------------------------------------\u001b[0m",
      "\u001b[0;31mNameError\u001b[0m                                 Traceback (most recent call last)",
      "\u001b[0;32m<ipython-input-17-4e3e6345aff9>\u001b[0m in \u001b[0;36m<module>\u001b[0;34m\u001b[0m\n\u001b[0;32m----> 1\u001b[0;31m \u001b[0mdf_clean_age_gender\u001b[0m\u001b[0;34m.\u001b[0m\u001b[0mwithColumn\u001b[0m\u001b[0;34m(\u001b[0m\u001b[0;34m'gender'\u001b[0m\u001b[0;34m,\u001b[0m \u001b[0mexplode\u001b[0m\u001b[0;34m(\u001b[0m\u001b[0;34m'gender'\u001b[0m\u001b[0;34m)\u001b[0m\u001b[0;34m)\u001b[0m\u001b[0;34m\u001b[0m\u001b[0;34m\u001b[0m\u001b[0m\n\u001b[0m",
      "\u001b[0;31mNameError\u001b[0m: name 'explode' is not defined"
     ]
    }
   ],
   "source": [
    "# df_clean_age_gender.withColumn('gender', explode('gender'))"
   ]
  },
  {
   "cell_type": "code",
   "execution_count": 18,
   "metadata": {},
   "outputs": [],
   "source": [
    "# dropped_df.createOrReplaceTempView(\"dog_data\")\n",
    "df_clean_age_gender.createOrReplaceTempView(\"age_gender_data\")"
   ]
  },
  {
   "cell_type": "code",
   "execution_count": 19,
   "metadata": {},
   "outputs": [
    {
     "name": "stdout",
     "output_type": "stream",
     "text": [
      "+-----+------+\n",
      "|  age|gender|\n",
      "+-----+------+\n",
      "|Young|Female|\n",
      "|Adult|  Male|\n",
      "|Adult|  Male|\n",
      "|Adult|Female|\n",
      "|Adult|Female|\n",
      "|Adult|Female|\n",
      "|Young|Female|\n",
      "| Baby|Female|\n",
      "| Baby|Female|\n",
      "| Baby|Female|\n",
      "| Baby|  Male|\n",
      "|Young|Female|\n",
      "|Adult|  Male|\n",
      "|Adult|  Male|\n",
      "|Adult|  Male|\n",
      "|Adult|  Male|\n",
      "|Young|Female|\n",
      "|Adult|Female|\n",
      "| Baby|Female|\n",
      "|Young|  Male|\n",
      "+-----+------+\n",
      "only showing top 20 rows\n",
      "\n"
     ]
    }
   ],
   "source": [
    "df_clean_age_gender.show(20)"
   ]
  },
  {
   "cell_type": "code",
   "execution_count": 20,
   "metadata": {},
   "outputs": [
    {
     "name": "stdout",
     "output_type": "stream",
     "text": [
      "+------+-----+\n",
      "|gender|Count|\n",
      "+------+-----+\n",
      "|Female|62378|\n",
      "|  Male|37622|\n",
      "+------+-----+\n",
      "\n"
     ]
    }
   ],
   "source": [
    "result = spark.sql('''SELECT gender, \n",
    "COUNT(*) AS Count\n",
    "                        FROM age_gender_data\n",
    "                        GROUP BY gender\n",
    "                        ORDER BY COUNT(*) desc''')\n",
    "result.show()"
   ]
  },
  {
   "cell_type": "code",
   "execution_count": 56,
   "metadata": {},
   "outputs": [],
   "source": [
    "total_dogs = 62378 + 37622"
   ]
  },
  {
   "cell_type": "code",
   "execution_count": 21,
   "metadata": {},
   "outputs": [],
   "source": [
    "plot_age_gender = result.toPandas()\n",
    "plot_age_gender['gender']\n",
    "plot_age_gender.dropna(inplace=True)"
   ]
  },
  {
   "cell_type": "code",
   "execution_count": 24,
   "metadata": {},
   "outputs": [],
   "source": [
    "df = df_clean_age_gender.toPandas()"
   ]
  },
  {
   "cell_type": "code",
   "execution_count": 41,
   "metadata": {},
   "outputs": [],
   "source": [
    "def is_female(val):\n",
    "    if val == 'Female':\n",
    "        return 1\n",
    "    else:\n",
    "        return 0\n",
    "    \n",
    "\n",
    "def is_male(val):\n",
    "    if val == 'Male':\n",
    "        return 1\n",
    "    else:\n",
    "        return 0"
   ]
  },
  {
   "cell_type": "code",
   "execution_count": 42,
   "metadata": {},
   "outputs": [],
   "source": [
    "df['Female']=df['gender'].apply(is_female)  #apply function to column\n",
    "df['Male']=df['gender'].apply(is_male)"
   ]
  },
  {
   "cell_type": "code",
   "execution_count": 43,
   "metadata": {},
   "outputs": [
    {
     "data": {
      "text/html": [
       "<div>\n",
       "<style scoped>\n",
       "    .dataframe tbody tr th:only-of-type {\n",
       "        vertical-align: middle;\n",
       "    }\n",
       "\n",
       "    .dataframe tbody tr th {\n",
       "        vertical-align: top;\n",
       "    }\n",
       "\n",
       "    .dataframe thead th {\n",
       "        text-align: right;\n",
       "    }\n",
       "</style>\n",
       "<table border=\"1\" class=\"dataframe\">\n",
       "  <thead>\n",
       "    <tr style=\"text-align: right;\">\n",
       "      <th></th>\n",
       "      <th>age</th>\n",
       "      <th>gender</th>\n",
       "      <th>Female</th>\n",
       "      <th>Male</th>\n",
       "    </tr>\n",
       "  </thead>\n",
       "  <tbody>\n",
       "    <tr>\n",
       "      <th>0</th>\n",
       "      <td>Young</td>\n",
       "      <td>Female</td>\n",
       "      <td>1</td>\n",
       "      <td>0</td>\n",
       "    </tr>\n",
       "    <tr>\n",
       "      <th>1</th>\n",
       "      <td>Adult</td>\n",
       "      <td>Male</td>\n",
       "      <td>0</td>\n",
       "      <td>1</td>\n",
       "    </tr>\n",
       "    <tr>\n",
       "      <th>2</th>\n",
       "      <td>Adult</td>\n",
       "      <td>Male</td>\n",
       "      <td>0</td>\n",
       "      <td>1</td>\n",
       "    </tr>\n",
       "    <tr>\n",
       "      <th>3</th>\n",
       "      <td>Adult</td>\n",
       "      <td>Female</td>\n",
       "      <td>1</td>\n",
       "      <td>0</td>\n",
       "    </tr>\n",
       "    <tr>\n",
       "      <th>4</th>\n",
       "      <td>Adult</td>\n",
       "      <td>Female</td>\n",
       "      <td>1</td>\n",
       "      <td>0</td>\n",
       "    </tr>\n",
       "    <tr>\n",
       "      <th>5</th>\n",
       "      <td>Adult</td>\n",
       "      <td>Female</td>\n",
       "      <td>1</td>\n",
       "      <td>0</td>\n",
       "    </tr>\n",
       "    <tr>\n",
       "      <th>6</th>\n",
       "      <td>Young</td>\n",
       "      <td>Female</td>\n",
       "      <td>1</td>\n",
       "      <td>0</td>\n",
       "    </tr>\n",
       "    <tr>\n",
       "      <th>7</th>\n",
       "      <td>Baby</td>\n",
       "      <td>Female</td>\n",
       "      <td>1</td>\n",
       "      <td>0</td>\n",
       "    </tr>\n",
       "    <tr>\n",
       "      <th>8</th>\n",
       "      <td>Baby</td>\n",
       "      <td>Female</td>\n",
       "      <td>1</td>\n",
       "      <td>0</td>\n",
       "    </tr>\n",
       "    <tr>\n",
       "      <th>9</th>\n",
       "      <td>Baby</td>\n",
       "      <td>Female</td>\n",
       "      <td>1</td>\n",
       "      <td>0</td>\n",
       "    </tr>\n",
       "    <tr>\n",
       "      <th>10</th>\n",
       "      <td>Baby</td>\n",
       "      <td>Male</td>\n",
       "      <td>0</td>\n",
       "      <td>1</td>\n",
       "    </tr>\n",
       "    <tr>\n",
       "      <th>11</th>\n",
       "      <td>Young</td>\n",
       "      <td>Female</td>\n",
       "      <td>1</td>\n",
       "      <td>0</td>\n",
       "    </tr>\n",
       "    <tr>\n",
       "      <th>12</th>\n",
       "      <td>Adult</td>\n",
       "      <td>Male</td>\n",
       "      <td>0</td>\n",
       "      <td>1</td>\n",
       "    </tr>\n",
       "    <tr>\n",
       "      <th>13</th>\n",
       "      <td>Adult</td>\n",
       "      <td>Male</td>\n",
       "      <td>0</td>\n",
       "      <td>1</td>\n",
       "    </tr>\n",
       "    <tr>\n",
       "      <th>14</th>\n",
       "      <td>Adult</td>\n",
       "      <td>Male</td>\n",
       "      <td>0</td>\n",
       "      <td>1</td>\n",
       "    </tr>\n",
       "    <tr>\n",
       "      <th>15</th>\n",
       "      <td>Adult</td>\n",
       "      <td>Male</td>\n",
       "      <td>0</td>\n",
       "      <td>1</td>\n",
       "    </tr>\n",
       "    <tr>\n",
       "      <th>16</th>\n",
       "      <td>Young</td>\n",
       "      <td>Female</td>\n",
       "      <td>1</td>\n",
       "      <td>0</td>\n",
       "    </tr>\n",
       "    <tr>\n",
       "      <th>17</th>\n",
       "      <td>Adult</td>\n",
       "      <td>Female</td>\n",
       "      <td>1</td>\n",
       "      <td>0</td>\n",
       "    </tr>\n",
       "    <tr>\n",
       "      <th>18</th>\n",
       "      <td>Baby</td>\n",
       "      <td>Female</td>\n",
       "      <td>1</td>\n",
       "      <td>0</td>\n",
       "    </tr>\n",
       "    <tr>\n",
       "      <th>19</th>\n",
       "      <td>Young</td>\n",
       "      <td>Male</td>\n",
       "      <td>0</td>\n",
       "      <td>1</td>\n",
       "    </tr>\n",
       "  </tbody>\n",
       "</table>\n",
       "</div>"
      ],
      "text/plain": [
       "      age  gender  Female  Male\n",
       "0   Young  Female       1     0\n",
       "1   Adult    Male       0     1\n",
       "2   Adult    Male       0     1\n",
       "3   Adult  Female       1     0\n",
       "4   Adult  Female       1     0\n",
       "5   Adult  Female       1     0\n",
       "6   Young  Female       1     0\n",
       "7    Baby  Female       1     0\n",
       "8    Baby  Female       1     0\n",
       "9    Baby  Female       1     0\n",
       "10   Baby    Male       0     1\n",
       "11  Young  Female       1     0\n",
       "12  Adult    Male       0     1\n",
       "13  Adult    Male       0     1\n",
       "14  Adult    Male       0     1\n",
       "15  Adult    Male       0     1\n",
       "16  Young  Female       1     0\n",
       "17  Adult  Female       1     0\n",
       "18   Baby  Female       1     0\n",
       "19  Young    Male       0     1"
      ]
     },
     "execution_count": 43,
     "metadata": {},
     "output_type": "execute_result"
    }
   ],
   "source": [
    "df.head(20)"
   ]
  },
  {
   "cell_type": "code",
   "execution_count": 33,
   "metadata": {},
   "outputs": [],
   "source": [
    "a = df['Female'].values"
   ]
  },
  {
   "cell_type": "code",
   "execution_count": 46,
   "metadata": {},
   "outputs": [],
   "source": [
    "b = df['Male'].values"
   ]
  },
  {
   "cell_type": "code",
   "execution_count": 47,
   "metadata": {},
   "outputs": [
    {
     "data": {
      "text/plain": [
       "array([0, 1, 1, ..., 0, 0, 1])"
      ]
     },
     "execution_count": 47,
     "metadata": {},
     "output_type": "execute_result"
    }
   ],
   "source": [
    "b"
   ]
  },
  {
   "cell_type": "code",
   "execution_count": null,
   "metadata": {
    "scrolled": true
   },
   "outputs": [],
   "source": [
    "import matplotlib\n",
    "import matplotlib.pyplot as plt\n",
    "plt.style.use('ggplot')\n",
    "matplotlib.rc('xtick', labelsize=12) \n",
    "matplotlib.rc('ytick', labelsize=12)\n",
    "plt.close('all')\n",
    "fig, ax = plt.subplots(1, figsize=(10,3))\n",
    "ax.bar(x = plot_age_gender['gender'], height=plot_age_gender['Count'], color=['pink', 'blue'])\n",
    "ax.set_title(\"Raw Count of All Male Vs. Female Dogs In Shelters\", fontsize=18)\n",
    "\n",
    "ax.set_xlabel('Gender', fontsize=16)\n",
    "ax.set_ylabel('Number of Dogs', fontsize=16)\n",
    "plt.tight_layout()\n",
    "plt.show();\n",
    "plt.savefig('../src/readme/raw_counts');"
   ]
  },
  {
   "cell_type": "code",
   "execution_count": null,
   "metadata": {},
   "outputs": [],
   "source": []
  },
  {
   "cell_type": "code",
   "execution_count": null,
   "metadata": {},
   "outputs": [],
   "source": []
  },
  {
   "cell_type": "code",
   "execution_count": null,
   "metadata": {},
   "outputs": [],
   "source": []
  },
  {
   "cell_type": "code",
   "execution_count": null,
   "metadata": {},
   "outputs": [],
   "source": [
    "# 2 sample t test- arrive younger male vs female"
   ]
  },
  {
   "cell_type": "code",
   "execution_count": 48,
   "metadata": {},
   "outputs": [],
   "source": [
    "\n",
    "%matplotlib inline\n",
    "\n",
    "import numpy as np\n",
    "import matplotlib.pyplot as plt\n",
    "import scipy.stats as stats\n",
    "\n",
    "plt.style.use('ggplot')"
   ]
  },
  {
   "cell_type": "code",
   "execution_count": null,
   "metadata": {},
   "outputs": [],
   "source": [
    "import matplotlib\n",
    "import numpy as np\n",
    "import matplotlib.pyplot as plt\n",
    "import scipy.stats as stats\n",
    "\n",
    "plt.style.use('ggplot')\n",
    "binomial = stats.binom(n=len(a), p=0.5)\n",
    "matplotlib.rc('xtick', labelsize=16) \n",
    "matplotlib.rc('ytick', labelsize=16)\n",
    "plt.close('all')\n",
    "\n",
    "\n",
    "fig, ax = plt.subplots(1, figsize=(16, 6))\n",
    "# _ = ax.set(xlabel='Total Dogs In U.S. Shelters Registered On PetFinder.com', ylabel='Probabilities of Dogs Being Female');\n",
    "ax.axvline(x=50000, ymin=0.0, ymax=1, color=\"red\", linestyle='--', alpha=0.5)\n",
    "ax.axvline(x=62378, ymin=0.0, ymax=1, color=\"purple\", linestyle='--', alpha=0.5)\n",
    "\n",
    "\n",
    "ax.text(42500, 0.0023, r\"This $\\bar{x}$ would have shown \", fontsize=16, color='r')\n",
    "ax.text(42500, 0.0021, r\"failure to reject the ${H_o}$.\", fontsize=16, color='r')\n",
    "\n",
    "ax.text(57250, 0.0013, r\"The actual $\\bar{x}$ shows\", fontsize=16, color='purple')\n",
    "ax.text(57250, 0.0011, r\"we reject the ${H_o}$.\", fontsize=16, color='purple')\n",
    "\n",
    "fem_arr= range(len(a))\n",
    "_ = ax.plot(fem_arr, [binomial.pmf(i) for i in fem_arr], color=\"black\")\n",
    "ax.set_xlim([35000,65000]);\n",
    "\n",
    "ax.set_xlabel('Total Dogs In U.S. Shelters Registered On PetFinder.com', fontsize=18)\n",
    "ax.set_ylabel('Probabilities of Dogs Being Female', fontsize=18)\n",
    "ax.set_title(\"Evidence For Failure to Reject the Null Hypothesis For the General Dog Population\", fontsize=20)\n",
    "\n",
    "plt.tight_layout()\n",
    "plt.show();\n",
    "plt.savefig('../src/readme/reject_null_hyp');"
   ]
  },
  {
   "cell_type": "code",
   "execution_count": null,
   "metadata": {},
   "outputs": [],
   "source": [
    "set_linspace = np.linspace(1000)\n",
    "#check np.arange()\n",
    "\n",
    "were it true that I could accept my null hypothesis, i\n",
    "i would see the red dotted line overlapping with the black dotted line\n",
    "\n",
    "draw a red line at the number of girls\n",
    "this plain grey plot is my null hypothesis\n",
    "\n",
    "Female= 62378\n",
    "Male = 37622"
   ]
  },
  {
   "cell_type": "code",
   "execution_count": null,
   "metadata": {},
   "outputs": [],
   "source": [
    "#make a normal distribution centered around mean of te data\n",
    "# calculate std deviation based off clt\n",
    "# std dev sample/ sq root num of samples\n",
    "# number males / number of females == 1\n",
    "# 1 - (number of females / total number of dogs) should equal 50% will be greater than or less than 0.5"
   ]
  },
  {
   "cell_type": "code",
   "execution_count": 79,
   "metadata": {},
   "outputs": [
    {
     "ename": "SyntaxError",
     "evalue": "invalid syntax (<ipython-input-79-03bc0e118a51>, line 1)",
     "output_type": "error",
     "traceback": [
      "\u001b[0;36m  File \u001b[0;32m\"<ipython-input-79-03bc0e118a51>\"\u001b[0;36m, line \u001b[0;32m1\u001b[0m\n\u001b[0;31m    of 10 dogs\u001b[0m\n\u001b[0m       ^\u001b[0m\n\u001b[0;31mSyntaxError\u001b[0m\u001b[0;31m:\u001b[0m invalid syntax\n"
     ]
    }
   ],
   "source": [
    "# of 10 dogs\n",
    "# 4 males, 6 females\n",
    "# prob of females is .6\n",
    "\n",
    "\n",
    "# do another round, til n times\n",
    "\n",
    "# add al the means up and divide by the number of times i did that\n",
    "\n",
    "\n",
    "\n"
   ]
  },
  {
   "cell_type": "code",
   "execution_count": 88,
   "metadata": {},
   "outputs": [
    {
     "ename": "SyntaxError",
     "evalue": "invalid syntax (<ipython-input-88-a208806c26ac>, line 1)",
     "output_type": "error",
     "traceback": [
      "\u001b[0;36m  File \u001b[0;32m\"<ipython-input-88-a208806c26ac>\"\u001b[0;36m, line \u001b[0;32m1\u001b[0m\n\u001b[0;31m    to create multiple means for calculating stuff\u001b[0m\n\u001b[0m       ^\u001b[0m\n\u001b[0;31mSyntaxError\u001b[0m\u001b[0;31m:\u001b[0m invalid syntax\n"
     ]
    }
   ],
   "source": [
    "to create multiple means for calculating stuff\n",
    "norm = stats.norm(the equtin for std deviation)\n",
    "norm.rvs(some number i want)"
   ]
  },
  {
   "cell_type": "code",
   "execution_count": null,
   "metadata": {},
   "outputs": [],
   "source": []
  }
 ],
 "metadata": {
  "kernelspec": {
   "display_name": "Python 3",
   "language": "python",
   "name": "python3"
  },
  "language_info": {
   "codemirror_mode": {
    "name": "ipython",
    "version": 3
   },
   "file_extension": ".py",
   "mimetype": "text/x-python",
   "name": "python",
   "nbconvert_exporter": "python",
   "pygments_lexer": "ipython3",
   "version": "3.8.3"
  }
 },
 "nbformat": 4,
 "nbformat_minor": 4
}
