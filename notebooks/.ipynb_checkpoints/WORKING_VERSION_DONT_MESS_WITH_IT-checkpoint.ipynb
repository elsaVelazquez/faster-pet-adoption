{
 "cells": [
  {
   "cell_type": "code",
   "execution_count": 22,
   "metadata": {},
   "outputs": [],
   "source": [
    "import pyspark as ps    # for the pyspark suite\n",
    "from pyspark.sql.types import *\n",
    "from datetime import datetime\n",
    "import json\n",
    "\n",
    "spark = ps.sql.SparkSession.builder \\\n",
    "            .master(\"local[4]\") \\\n",
    "            .appName(\"sparkSQL exercise\") \\\n",
    "            .getOrCreate()\n",
    "\n",
    "sc = spark.sparkContext "
   ]
  },
  {
   "cell_type": "code",
   "execution_count": 23,
   "metadata": {},
   "outputs": [],
   "source": [
    "def apply_json(input_lst):\n",
    "    try:\n",
    "        return json.loads(input_lst)['animals'][0]                                               \n",
    "    except:\n",
    "        return None"
   ]
  },
  {
   "cell_type": "code",
   "execution_count": 24,
   "metadata": {},
   "outputs": [],
   "source": [
    "# data_filepath = '../data/json_dump/output_4994.json'\n",
    "# data_filepath = '../src/big_json_subset_copy.json'\n",
    "data_filepath = '../src/big_json_201MB.json'\n",
    "\n",
    "\n",
    "data = sc.textFile(data_filepath).map(apply_json) #reads in the json file"
   ]
  },
  {
   "cell_type": "code",
   "execution_count": 25,
   "metadata": {},
   "outputs": [
    {
     "name": "stdout",
     "output_type": "stream",
     "text": [
      "PythonRDD[35] at RDD at PythonRDD.scala:53\n"
     ]
    }
   ],
   "source": [
    "print(data)\n",
    "#create a pipeline to mash dataframes\n",
    "\n",
    "# df_temp = spark.read.json(data_filepath, multiLine = True)"
   ]
  },
  {
   "cell_type": "code",
   "execution_count": 26,
   "metadata": {},
   "outputs": [],
   "source": [
    "#remove outer dictionary from every file\n"
   ]
  },
  {
   "cell_type": "code",
   "execution_count": 27,
   "metadata": {},
   "outputs": [],
   "source": [
    "df = spark.read.json(data_filepath, multiLine = True)"
   ]
  },
  {
   "cell_type": "code",
   "execution_count": 28,
   "metadata": {},
   "outputs": [
    {
     "data": {
      "text/plain": [
       "100000"
      ]
     },
     "execution_count": 28,
     "metadata": {},
     "output_type": "execute_result"
    }
   ],
   "source": [
    "df.count()"
   ]
  },
  {
   "cell_type": "code",
   "execution_count": 29,
   "metadata": {
    "scrolled": true
   },
   "outputs": [
    {
     "name": "stdout",
     "output_type": "stream",
     "text": [
      "+--------------------+-----+--------------------+--------------------+----+------+--------------------+--------------------+--------+-------------------+------+--------+---------+----------------------+---------------+------+---------------------+--------------------+------+-------+---------+--------------------+----+----+--------------------+------+\n",
      "|              _links|  age|          attributes|              breeds|coat|colors|             contact|         description|distance|        environment|gender|      id|     name|organization_animal_id|organization_id|photos|primary_photo_cropped|        published_at|  size|species|   status|   status_changed_at|tags|type|                 url|videos|\n",
      "+--------------------+-----+--------------------+--------------------+----+------+--------------------+--------------------+--------+-------------------+------+--------+---------+----------------------+---------------+------+---------------------+--------------------+------+-------+---------+--------------------+----+----+--------------------+------+\n",
      "|[[/v2/organizatio...|Young|[, false, false, ...|[true, Chihuahua,...|null|  [,,]|[[2200 Peabody Rd...|Oh Snap! Snap is ...|    null|               [,,]|Female|48549327|     Snap|              T2020299|          CA162|    []|                 null|2020-07-21T10:04:...| Small|    Dog|adoptable|2020-07-21T10:04:...|  []| Dog|https://www.petfi...|    []|\n",
      "|[[/v2/organizatio...|Adult|[, false, true, t...|[true, Labrador R...|null|  [,,]|[[195 Cloaca Lane...|Handsome fellow, ...|    null|               [,,]|  Male|48549326|      Red|                203092|           AR07|    []|                 null|2020-07-21T10:04:...| Large|    Dog|adoptable|2020-07-21T10:04:...|  []| Dog|https://www.petfi...|    []|\n",
      "|[[/v2/organizatio...|Adult|[, false, true, t...|[true, Shepherd, ...|null|  [,,]|[[2010 Arcadia St...|                null|    null|               [,,]|  Male|48549322|    Sammy|              D2020832|           FL96|    []|                 null|2020-07-21T10:04:...|Medium|    Dog|adoptable|2020-07-21T10:04:...|  []| Dog|https://www.petfi...|    []|\n",
      "|[[/v2/organizatio...|Adult|[, false, true, t...|[true, Shih Tzu, ...|null|  [,,]|[[2010 Arcadia St...|                null|    null|               [,,]|Female|48549323|    Becca|              D2020515|           FL96|    []|                 null|2020-07-21T10:04:...| Small|    Dog|adoptable|2020-07-21T10:04:...|  []| Dog|https://www.petfi...|    []|\n",
      "|[[/v2/organizatio...|Adult|[, false, true, t...|[true, Dachshund,...|null|  [,,]|[[2010 Arcadia St...|                null|    null|               [,,]|Female|48549325|    Reese|              D2020838|           FL96|    []|                 null|2020-07-21T10:04:...| Small|    Dog|adoptable|2020-07-21T10:04:...|  []| Dog|https://www.petfi...|    []|\n",
      "|[[/v2/organizatio...|Adult|[, false, true, t...|[true, Terrier, M...|null|  [,,]|[[2010 Arcadia St...|                null|    null|               [,,]|Female|48549318|    Amber|              D2020364|           FL96|    []|                 null|2020-07-21T10:04:...|Medium|    Dog|adoptable|2020-07-21T10:04:...|  []| Dog|https://www.petfi...|    []|\n",
      "|[[/v2/organizatio...|Young|[, true, true, tr...|[false, Chihuahua...|null|  [,,]|[[,, Columbia, US...|Meet Sassy/MS! Th...|    null|      [true,, true]|Female|48549314| Sassy/MS|              15860948|          TN270|    []|                 null|2020-07-21T10:03:...| Small|    Dog|adoptable|2020-07-21T10:03:...|  []| Dog|https://www.petfi...|    []|\n",
      "|[[/v2/organizatio...| Baby|[, false, true, t...|[true, Chihuahua,...|null|  [,,]|[[,, Columbia, US...|Meet Dashia/MS!! ...|    null| [true, true, true]|Female|48549315|Dashia/MS|              15860945|          TN270|    []|                 null|2020-07-21T10:03:...| Small|    Dog|adoptable|2020-07-21T10:03:...|  []| Dog|https://www.petfi...|    []|\n",
      "|[[/v2/organizatio...| Baby|[, false, true, t...|[true, Chihuahua,...|null|  [,,]|[[,, Columbia, US...|Meet Misty/MS!! T...|    null|[true, false, true]|Female|48549316| Misty/MS|              15860946|          TN270|    []|                 null|2020-07-21T10:03:...| Small|    Dog|adoptable|2020-07-21T10:03:...|  []| Dog|https://www.petfi...|    []|\n",
      "|[[/v2/organizatio...| Baby|[, false, true, t...|[true, Maltese, C...|null|  [,,]|[[,, Columbia, US...|Meet Macy/MS! Thi...|    null|      [true,, true]|Female|48549317|  Macy/MS|              15860947|          TN270|    []|                 null|2020-07-21T10:03:...| Small|    Dog|adoptable|2020-07-21T10:03:...|  []| Dog|https://www.petfi...|    []|\n",
      "|[[/v2/organizatio...| Baby|[, false, true, t...|[true, German She...|null|  [,,]|[[PO Box 8,, Dods...|Willie is an ador...|    null|      [true,, true]|  Male|48549312|   Willie|              15860941|           MT87|    []|                 null|2020-07-21T10:03:...| Large|    Dog|adoptable|2020-07-21T10:03:...|  []| Dog|https://www.petfi...|    []|\n",
      "|[[/v2/organizatio...|Young|[, false, false, ...|[true, Bull Terri...|null|  [,,]|[[PO Box 8,, Dods...|                null|    null|               [,,]|Female|48549313|     Webo|              15860938|           MT87|    []|                 null|2020-07-21T10:03:...|Medium|    Dog|adoptable|2020-07-21T10:03:...|  []| Dog|https://www.petfi...|    []|\n",
      "|[[/v2/organizatio...|Adult|[, false, true, f...|[false, Hound,, f...|null|  [,,]|[[P.O. Box 840215...|Interested in ado...|    null|               [,,]|  Male|48549306|     Tony|                A12229|          FL819|    []|                 null|2020-07-21T10:03:...|Medium|    Dog|adoptable|2020-07-21T10:03:...|  []| Dog|https://www.petfi...|    []|\n",
      "|[[/v2/organizatio...|Adult|[, false, true, f...|[false, Dachshund...|null|  [,,]|[[P.O. Box 840215...|Interested in ado...|    null|               [,,]|  Male|48549307|     Chip|                A12231|          FL819|    []|                 null|2020-07-21T10:03:...| Small|    Dog|adoptable|2020-07-21T10:03:...|  []| Dog|https://www.petfi...|    []|\n",
      "|[[/v2/organizatio...|Adult|[, false, true, f...|[false, Dachshund...|null|  [,,]|[[P.O. Box 840215...|Interested in ado...|    null|               [,,]|  Male|48549309|     Dale|                A12232|          FL819|    []|                 null|2020-07-21T10:03:...| Small|    Dog|adoptable|2020-07-21T10:03:...|  []| Dog|https://www.petfi...|    []|\n",
      "|[[/v2/organizatio...|Adult|[, false, true, t...|[true, Australian...|null|  [,,]|[[P.O. Box 840215...|Interested in ado...|    null|               [,,]|  Male|48549310|    Teddy|                A12167|          FL819|    []|                 null|2020-07-21T10:03:...| Large|    Dog|adoptable|2020-07-21T10:03:...|  []| Dog|https://www.petfi...|    []|\n",
      "|[[/v2/organizatio...|Young|[, false, true, f...|[false, Rottweile...|null|  [,,]|[[P.O. Box 840215...|Interested in ado...|    null|               [,,]|Female|48549311| Babygirl|                A12117|          FL819|    []|                 null|2020-07-21T10:03:...| Large|    Dog|adoptable|2020-07-21T10:03:...|  []| Dog|https://www.petfi...|    []|\n",
      "|[[/v2/organizatio...|Adult|[, false, false, ...|[false, Pit Bull ...|null|  [,,]|[[123 Dog Cat Lan...|If you are intere...|    null|               [,,]|Female|48549288|    Peggy|             D20201331|          SC461|    []|                 null|2020-07-21T10:03:...| Large|    Dog|adoptable|2020-07-21T10:03:...|  []| Dog|https://www.petfi...|    []|\n",
      "|[[/v2/organizatio...| Baby|[, true, true, fa...|[false, German Sh...|null|  [,,]|[[,, Dacula, US, ...|Luna is a little ...|    null|          [false,,]|Female|48549284|     Luna|              D2020060|          GA537|    []|                 null|2020-07-21T10:03:...| Large|    Dog|adoptable|2020-07-21T10:03:...|  []| Dog|https://www.petfi...|    []|\n",
      "|[[/v2/organizatio...|Young|[, false, false, ...|[false, Terrier,,...|null|  [,,]|[[,, Raleigh, US,...|If you are intere...|    null|               [,,]|  Male|48549285|    Bruno|              D2020125|          NC807|    []|                 null|2020-07-21T10:03:...|Medium|    Dog|adoptable|2020-07-21T10:03:...|  []| Dog|https://www.petfi...|    []|\n",
      "+--------------------+-----+--------------------+--------------------+----+------+--------------------+--------------------+--------+-------------------+------+--------+---------+----------------------+---------------+------+---------------------+--------------------+------+-------+---------+--------------------+----+----+--------------------+------+\n",
      "only showing top 20 rows\n",
      "\n"
     ]
    }
   ],
   "source": [
    "df.show(20)"
   ]
  },
  {
   "cell_type": "code",
   "execution_count": 31,
   "metadata": {},
   "outputs": [
    {
     "name": "stdout",
     "output_type": "stream",
     "text": [
      "root\n",
      " |-- _links: struct (nullable = true)\n",
      " |    |-- organization: struct (nullable = true)\n",
      " |    |    |-- href: string (nullable = true)\n",
      " |    |-- self: struct (nullable = true)\n",
      " |    |    |-- href: string (nullable = true)\n",
      " |    |-- type: struct (nullable = true)\n",
      " |    |    |-- href: string (nullable = true)\n",
      " |-- age: string (nullable = true)\n",
      " |-- attributes: struct (nullable = true)\n",
      " |    |-- declawed: string (nullable = true)\n",
      " |    |-- house_trained: boolean (nullable = true)\n",
      " |    |-- shots_current: boolean (nullable = true)\n",
      " |    |-- spayed_neutered: boolean (nullable = true)\n",
      " |    |-- special_needs: boolean (nullable = true)\n",
      " |-- breeds: struct (nullable = true)\n",
      " |    |-- mixed: boolean (nullable = true)\n",
      " |    |-- primary: string (nullable = true)\n",
      " |    |-- secondary: string (nullable = true)\n",
      " |    |-- unknown: boolean (nullable = true)\n",
      " |-- coat: string (nullable = true)\n",
      " |-- colors: struct (nullable = true)\n",
      " |    |-- primary: string (nullable = true)\n",
      " |    |-- secondary: string (nullable = true)\n",
      " |    |-- tertiary: string (nullable = true)\n",
      " |-- contact: struct (nullable = true)\n",
      " |    |-- address: struct (nullable = true)\n",
      " |    |    |-- address1: string (nullable = true)\n",
      " |    |    |-- address2: string (nullable = true)\n",
      " |    |    |-- city: string (nullable = true)\n",
      " |    |    |-- country: string (nullable = true)\n",
      " |    |    |-- postcode: string (nullable = true)\n",
      " |    |    |-- state: string (nullable = true)\n",
      " |    |-- email: string (nullable = true)\n",
      " |    |-- phone: string (nullable = true)\n",
      " |-- description: string (nullable = true)\n",
      " |-- distance: string (nullable = true)\n",
      " |-- environment: struct (nullable = true)\n",
      " |    |-- cats: boolean (nullable = true)\n",
      " |    |-- children: boolean (nullable = true)\n",
      " |    |-- dogs: boolean (nullable = true)\n",
      " |-- gender: string (nullable = true)\n",
      " |-- id: long (nullable = true)\n",
      " |-- name: string (nullable = true)\n",
      " |-- organization_animal_id: string (nullable = true)\n",
      " |-- organization_id: string (nullable = true)\n",
      " |-- photos: array (nullable = true)\n",
      " |    |-- element: struct (containsNull = true)\n",
      " |    |    |-- full: string (nullable = true)\n",
      " |    |    |-- large: string (nullable = true)\n",
      " |    |    |-- medium: string (nullable = true)\n",
      " |    |    |-- small: string (nullable = true)\n",
      " |-- primary_photo_cropped: struct (nullable = true)\n",
      " |    |-- full: string (nullable = true)\n",
      " |    |-- large: string (nullable = true)\n",
      " |    |-- medium: string (nullable = true)\n",
      " |    |-- small: string (nullable = true)\n",
      " |-- published_at: string (nullable = true)\n",
      " |-- size: string (nullable = true)\n",
      " |-- species: string (nullable = true)\n",
      " |-- status: string (nullable = true)\n",
      " |-- status_changed_at: string (nullable = true)\n",
      " |-- tags: array (nullable = true)\n",
      " |    |-- element: string (containsNull = true)\n",
      " |-- type: string (nullable = true)\n",
      " |-- url: string (nullable = true)\n",
      " |-- videos: array (nullable = true)\n",
      " |    |-- element: string (containsNull = true)\n",
      "\n"
     ]
    }
   ],
   "source": [
    "df.printSchema()"
   ]
  },
  {
   "cell_type": "code",
   "execution_count": 10,
   "metadata": {},
   "outputs": [],
   "source": [
    "# dogs = parts.map(lambda p: Row(id=p[0],\n",
    "#  age=int(p[1].strip())))"
   ]
  },
  {
   "cell_type": "code",
   "execution_count": 11,
   "metadata": {},
   "outputs": [],
   "source": [
    "# df.show(10)"
   ]
  },
  {
   "cell_type": "code",
   "execution_count": 32,
   "metadata": {},
   "outputs": [],
   "source": [
    "df_breed = df.select('id', 'age', 'gender', 'breeds', 'description')"
   ]
  },
  {
   "cell_type": "code",
   "execution_count": 33,
   "metadata": {},
   "outputs": [
    {
     "data": {
      "text/plain": [
       "100000"
      ]
     },
     "execution_count": 33,
     "metadata": {},
     "output_type": "execute_result"
    }
   ],
   "source": [
    "df_breed.count()"
   ]
  },
  {
   "cell_type": "code",
   "execution_count": 55,
   "metadata": {},
   "outputs": [],
   "source": [
    "df_clean_breed = df_breed.na.drop()"
   ]
  },
  {
   "cell_type": "code",
   "execution_count": 56,
   "metadata": {},
   "outputs": [
    {
     "data": {
      "text/plain": [
       "74999"
      ]
     },
     "execution_count": 56,
     "metadata": {},
     "output_type": "execute_result"
    }
   ],
   "source": [
    "df_clean_breed .count()"
   ]
  },
  {
   "cell_type": "code",
   "execution_count": 58,
   "metadata": {},
   "outputs": [
    {
     "name": "stdout",
     "output_type": "stream",
     "text": [
      "+--------+-----+------+--------------------+--------------------+\n",
      "|      id|  age|gender|              breeds|         description|\n",
      "+--------+-----+------+--------------------+--------------------+\n",
      "|48549327|Young|Female|[true, Chihuahua,...|Oh Snap! Snap is ...|\n",
      "|48549326|Adult|  Male|[true, Labrador R...|Handsome fellow, ...|\n",
      "|48549314|Young|Female|[false, Chihuahua...|Meet Sassy/MS! Th...|\n",
      "|48549315| Baby|Female|[true, Chihuahua,...|Meet Dashia/MS!! ...|\n",
      "|48549316| Baby|Female|[true, Chihuahua,...|Meet Misty/MS!! T...|\n",
      "|48549317| Baby|Female|[true, Maltese, C...|Meet Macy/MS! Thi...|\n",
      "|48549312| Baby|  Male|[true, German She...|Willie is an ador...|\n",
      "|48549306|Adult|  Male|[false, Hound,, f...|Interested in ado...|\n",
      "|48549307|Adult|  Male|[false, Dachshund...|Interested in ado...|\n",
      "|48549309|Adult|  Male|[false, Dachshund...|Interested in ado...|\n",
      "|48549310|Adult|  Male|[true, Australian...|Interested in ado...|\n",
      "|48549311|Young|Female|[false, Rottweile...|Interested in ado...|\n",
      "|48549288|Adult|Female|[false, Pit Bull ...|If you are intere...|\n",
      "|48549284| Baby|Female|[false, German Sh...|Luna is a little ...|\n",
      "|48549285|Young|  Male|[false, Terrier,,...|If you are intere...|\n",
      "|48549331| Baby|Female|[true, Jack Russe...|***All animals li...|\n",
      "|48549332|Young|Female|[true, Terrier,, ...|***All animals li...|\n",
      "|48549333| Baby|Female|[true, Jack Russe...|***All animals li...|\n",
      "|48549327|Young|Female|[true, Chihuahua,...|Oh Snap! Snap is ...|\n",
      "|48549326|Adult|  Male|[true, Labrador R...|Handsome fellow, ...|\n",
      "+--------+-----+------+--------------------+--------------------+\n",
      "only showing top 20 rows\n",
      "\n"
     ]
    }
   ],
   "source": [
    "df_clean_breed.show()"
   ]
  },
  {
   "cell_type": "code",
   "execution_count": 60,
   "metadata": {},
   "outputs": [
    {
     "name": "stdout",
     "output_type": "stream",
     "text": [
      "root\n",
      " |-- id: long (nullable = true)\n",
      " |-- age: string (nullable = true)\n",
      " |-- gender: string (nullable = true)\n",
      " |-- breeds: struct (nullable = true)\n",
      " |    |-- mixed: boolean (nullable = true)\n",
      " |    |-- primary: string (nullable = true)\n",
      " |    |-- secondary: string (nullable = true)\n",
      " |    |-- unknown: boolean (nullable = true)\n",
      " |-- description: string (nullable = true)\n",
      "\n"
     ]
    }
   ],
   "source": [
    "df_clean_breed.printSchema()"
   ]
  },
  {
   "cell_type": "code",
   "execution_count": 144,
   "metadata": {},
   "outputs": [],
   "source": [
    "# dropped_df.createOrReplaceTempView(\"dog_data\")\n",
    "df_clean_breed.createOrReplaceTempView(\"breed_data\")"
   ]
  },
  {
   "cell_type": "code",
   "execution_count": 152,
   "metadata": {},
   "outputs": [
    {
     "name": "stdout",
     "output_type": "stream",
     "text": [
      "+------+--------------------+-----+------+\n",
      "|gender|              breeds|  age|Number|\n",
      "+------+--------------------+-----+------+\n",
      "|Female|[true, Chihuahua,...| Baby|  9998|\n",
      "|  Male|[false, Dachshund...|Adult|  9998|\n",
      "|  Male|[false, Hound,, f...|Adult|  4999|\n",
      "|  Male|[true, Labrador R...|Adult|  4999|\n",
      "|  Male|[true, Australian...|Adult|  4999|\n",
      "|Female|[false, Rottweile...|Young|  4999|\n",
      "|Female|[true, Maltese, C...| Baby|  4999|\n",
      "|Female|[false, Chihuahua...|Young|  4999|\n",
      "|  Male|[true, German She...| Baby|  4999|\n",
      "|Female|[true, Chihuahua,...|Young|  4999|\n",
      "|Female|[true, Jack Russe...| Baby|  4758|\n",
      "|Female|[false, Pit Bull ...|Adult|  2622|\n",
      "|Female|[false, German Sh...| Baby|  2620|\n",
      "|  Male|[false, Terrier,,...|Young|  2620|\n",
      "|Female|[true, Terrier,, ...|Young|  2379|\n",
      "|  Male|[false, Pit Bull ...|Adult|     2|\n",
      "|  Male|[true, Boxer, Can...| Baby|     1|\n",
      "|Female|[true, Pit Bull T...|Adult|     1|\n",
      "|  Male|[true, Labrador R...|Adult|     1|\n",
      "|Female|[true, Hound, Lab...|Young|     1|\n",
      "+------+--------------------+-----+------+\n",
      "only showing top 20 rows\n",
      "\n"
     ]
    }
   ],
   "source": [
    "result = spark.sql('''SELECT gender, breeds,age,\n",
    "                        COUNT(*) AS Number\n",
    "                        FROM breed_data\n",
    "                        GROUP BY gender, breeds, age\n",
    "                        ORDER BY COUNT(*) desc''')\n",
    "result.show(20)"
   ]
  },
  {
   "cell_type": "code",
   "execution_count": 72,
   "metadata": {},
   "outputs": [
    {
     "name": "stdout",
     "output_type": "stream",
     "text": [
      "+------+------+-----+\n",
      "|gender|   age|Count|\n",
      "+------+------+-----+\n",
      "|  Male| Adult|25001|\n",
      "|Female|  Baby|22375|\n",
      "|Female| Young|17379|\n",
      "|  Male|  Baby| 5000|\n",
      "|Female| Adult| 2623|\n",
      "|  Male| Young| 2620|\n",
      "|Female|Senior|    1|\n",
      "+------+------+-----+\n",
      "\n"
     ]
    }
   ],
   "source": [
    "result = spark.sql('''SELECT gender, \n",
    "                            age,\n",
    "                            COUNT(*) AS Count\n",
    "                        FROM dog_data\n",
    "                        GROUP BY gender, age\n",
    "                        ORDER BY count desc''')\n",
    "result.show(20)"
   ]
  },
  {
   "cell_type": "code",
   "execution_count": 73,
   "metadata": {},
   "outputs": [
    {
     "name": "stdout",
     "output_type": "stream",
     "text": [
      "+------+------+-----+\n",
      "|gender|   age|Count|\n",
      "+------+------+-----+\n",
      "|  Male| Adult|25001|\n",
      "|Female|  Baby|22375|\n",
      "|Female| Young|17379|\n",
      "|  Male|  Baby| 5000|\n",
      "|Female| Adult| 2623|\n",
      "|  Male| Young| 2620|\n",
      "|Female|Senior|    1|\n",
      "+------+------+-----+\n",
      "\n"
     ]
    }
   ],
   "source": [
    "result.show()"
   ]
  },
  {
   "cell_type": "code",
   "execution_count": 74,
   "metadata": {},
   "outputs": [
    {
     "data": {
      "text/plain": [
       "[Row(gender='Male', age='Adult', Count=25001),\n",
       " Row(gender='Female', age='Baby', Count=22375),\n",
       " Row(gender='Female', age='Young', Count=17379),\n",
       " Row(gender='Male', age='Baby', Count=5000),\n",
       " Row(gender='Female', age='Adult', Count=2623),\n",
       " Row(gender='Male', age='Young', Count=2620),\n",
       " Row(gender='Female', age='Senior', Count=1)]"
      ]
     },
     "execution_count": 74,
     "metadata": {},
     "output_type": "execute_result"
    }
   ],
   "source": [
    "result.head(20)"
   ]
  },
  {
   "cell_type": "code",
   "execution_count": 158,
   "metadata": {},
   "outputs": [],
   "source": [
    "plot_breed = result.toPandas()\n",
    "plot_breed['Number']\n",
    "plot_breed.dropna(inplace=True)"
   ]
  },
  {
   "cell_type": "code",
   "execution_count": 159,
   "metadata": {},
   "outputs": [
    {
     "data": {
      "text/html": [
       "<div>\n",
       "<style scoped>\n",
       "    .dataframe tbody tr th:only-of-type {\n",
       "        vertical-align: middle;\n",
       "    }\n",
       "\n",
       "    .dataframe tbody tr th {\n",
       "        vertical-align: top;\n",
       "    }\n",
       "\n",
       "    .dataframe thead th {\n",
       "        text-align: right;\n",
       "    }\n",
       "</style>\n",
       "<table border=\"1\" class=\"dataframe\">\n",
       "  <thead>\n",
       "    <tr style=\"text-align: right;\">\n",
       "      <th></th>\n",
       "      <th>gender</th>\n",
       "      <th>breeds</th>\n",
       "      <th>age</th>\n",
       "      <th>Number</th>\n",
       "    </tr>\n",
       "  </thead>\n",
       "  <tbody>\n",
       "    <tr>\n",
       "      <th>0</th>\n",
       "      <td>Female</td>\n",
       "      <td>(True, Chihuahua, None, False)</td>\n",
       "      <td>Baby</td>\n",
       "      <td>9998</td>\n",
       "    </tr>\n",
       "    <tr>\n",
       "      <th>1</th>\n",
       "      <td>Male</td>\n",
       "      <td>(False, Dachshund, None, False)</td>\n",
       "      <td>Adult</td>\n",
       "      <td>9998</td>\n",
       "    </tr>\n",
       "    <tr>\n",
       "      <th>2</th>\n",
       "      <td>Male</td>\n",
       "      <td>(True, German Shepherd Dog, None, False)</td>\n",
       "      <td>Baby</td>\n",
       "      <td>4999</td>\n",
       "    </tr>\n",
       "    <tr>\n",
       "      <th>3</th>\n",
       "      <td>Male</td>\n",
       "      <td>(False, Hound, None, False)</td>\n",
       "      <td>Adult</td>\n",
       "      <td>4999</td>\n",
       "    </tr>\n",
       "    <tr>\n",
       "      <th>4</th>\n",
       "      <td>Female</td>\n",
       "      <td>(True, Maltese, Chihuahua, False)</td>\n",
       "      <td>Baby</td>\n",
       "      <td>4999</td>\n",
       "    </tr>\n",
       "    <tr>\n",
       "      <th>5</th>\n",
       "      <td>Female</td>\n",
       "      <td>(False, Chihuahua, None, False)</td>\n",
       "      <td>Young</td>\n",
       "      <td>4999</td>\n",
       "    </tr>\n",
       "    <tr>\n",
       "      <th>6</th>\n",
       "      <td>Male</td>\n",
       "      <td>(True, Labrador Retriever, Hound, False)</td>\n",
       "      <td>Adult</td>\n",
       "      <td>4999</td>\n",
       "    </tr>\n",
       "    <tr>\n",
       "      <th>7</th>\n",
       "      <td>Male</td>\n",
       "      <td>(True, Australian Shepherd, None, False)</td>\n",
       "      <td>Adult</td>\n",
       "      <td>4999</td>\n",
       "    </tr>\n",
       "    <tr>\n",
       "      <th>8</th>\n",
       "      <td>Female</td>\n",
       "      <td>(False, Rottweiler, None, False)</td>\n",
       "      <td>Young</td>\n",
       "      <td>4999</td>\n",
       "    </tr>\n",
       "    <tr>\n",
       "      <th>9</th>\n",
       "      <td>Female</td>\n",
       "      <td>(True, Chihuahua, Mixed Breed, False)</td>\n",
       "      <td>Young</td>\n",
       "      <td>4999</td>\n",
       "    </tr>\n",
       "    <tr>\n",
       "      <th>10</th>\n",
       "      <td>Female</td>\n",
       "      <td>(True, Jack Russell Terrier, Chihuahua, False)</td>\n",
       "      <td>Baby</td>\n",
       "      <td>4758</td>\n",
       "    </tr>\n",
       "    <tr>\n",
       "      <th>11</th>\n",
       "      <td>Female</td>\n",
       "      <td>(False, Pit Bull Terrier, None, False)</td>\n",
       "      <td>Adult</td>\n",
       "      <td>2622</td>\n",
       "    </tr>\n",
       "    <tr>\n",
       "      <th>12</th>\n",
       "      <td>Female</td>\n",
       "      <td>(False, German Shepherd Dog, None, False)</td>\n",
       "      <td>Baby</td>\n",
       "      <td>2620</td>\n",
       "    </tr>\n",
       "    <tr>\n",
       "      <th>13</th>\n",
       "      <td>Male</td>\n",
       "      <td>(False, Terrier, None, False)</td>\n",
       "      <td>Young</td>\n",
       "      <td>2620</td>\n",
       "    </tr>\n",
       "    <tr>\n",
       "      <th>14</th>\n",
       "      <td>Female</td>\n",
       "      <td>(True, Terrier, None, False)</td>\n",
       "      <td>Young</td>\n",
       "      <td>2379</td>\n",
       "    </tr>\n",
       "    <tr>\n",
       "      <th>15</th>\n",
       "      <td>Male</td>\n",
       "      <td>(False, Pit Bull Terrier, None, False)</td>\n",
       "      <td>Adult</td>\n",
       "      <td>2</td>\n",
       "    </tr>\n",
       "    <tr>\n",
       "      <th>16</th>\n",
       "      <td>Male</td>\n",
       "      <td>(True, Pit Bull Terrier, Pointer, False)</td>\n",
       "      <td>Adult</td>\n",
       "      <td>1</td>\n",
       "    </tr>\n",
       "    <tr>\n",
       "      <th>17</th>\n",
       "      <td>Female</td>\n",
       "      <td>(True, Pit Bull Terrier, None, False)</td>\n",
       "      <td>Adult</td>\n",
       "      <td>1</td>\n",
       "    </tr>\n",
       "    <tr>\n",
       "      <th>18</th>\n",
       "      <td>Female</td>\n",
       "      <td>(True, Chihuahua, Whippet, False)</td>\n",
       "      <td>Young</td>\n",
       "      <td>1</td>\n",
       "    </tr>\n",
       "    <tr>\n",
       "      <th>19</th>\n",
       "      <td>Male</td>\n",
       "      <td>(True, Labrador Retriever, Newfoundland Dog, F...</td>\n",
       "      <td>Adult</td>\n",
       "      <td>1</td>\n",
       "    </tr>\n",
       "    <tr>\n",
       "      <th>20</th>\n",
       "      <td>Female</td>\n",
       "      <td>(True, Hound, Labrador Retriever, False)</td>\n",
       "      <td>Young</td>\n",
       "      <td>1</td>\n",
       "    </tr>\n",
       "    <tr>\n",
       "      <th>21</th>\n",
       "      <td>Male</td>\n",
       "      <td>(True, Yorkshire Terrier, Terrier, False)</td>\n",
       "      <td>Adult</td>\n",
       "      <td>1</td>\n",
       "    </tr>\n",
       "    <tr>\n",
       "      <th>22</th>\n",
       "      <td>Male</td>\n",
       "      <td>(True, Boxer, Cane Corso, False)</td>\n",
       "      <td>Baby</td>\n",
       "      <td>1</td>\n",
       "    </tr>\n",
       "    <tr>\n",
       "      <th>23</th>\n",
       "      <td>Female</td>\n",
       "      <td>(True, Labrador Retriever, Pit Bull Terrier, F...</td>\n",
       "      <td>Senior</td>\n",
       "      <td>1</td>\n",
       "    </tr>\n",
       "    <tr>\n",
       "      <th>24</th>\n",
       "      <td>Male</td>\n",
       "      <td>(True, Pit Bull Terrier, Labrador Retriever, F...</td>\n",
       "      <td>Adult</td>\n",
       "      <td>1</td>\n",
       "    </tr>\n",
       "    <tr>\n",
       "      <th>25</th>\n",
       "      <td>Female</td>\n",
       "      <td>(False, Australian Shepherd, None, False)</td>\n",
       "      <td>Young</td>\n",
       "      <td>1</td>\n",
       "    </tr>\n",
       "  </tbody>\n",
       "</table>\n",
       "</div>"
      ],
      "text/plain": [
       "    gender                                             breeds     age  Number\n",
       "0   Female                     (True, Chihuahua, None, False)    Baby    9998\n",
       "1     Male                    (False, Dachshund, None, False)   Adult    9998\n",
       "2     Male           (True, German Shepherd Dog, None, False)    Baby    4999\n",
       "3     Male                        (False, Hound, None, False)   Adult    4999\n",
       "4   Female                  (True, Maltese, Chihuahua, False)    Baby    4999\n",
       "5   Female                    (False, Chihuahua, None, False)   Young    4999\n",
       "6     Male           (True, Labrador Retriever, Hound, False)   Adult    4999\n",
       "7     Male           (True, Australian Shepherd, None, False)   Adult    4999\n",
       "8   Female                   (False, Rottweiler, None, False)   Young    4999\n",
       "9   Female              (True, Chihuahua, Mixed Breed, False)   Young    4999\n",
       "10  Female     (True, Jack Russell Terrier, Chihuahua, False)    Baby    4758\n",
       "11  Female             (False, Pit Bull Terrier, None, False)   Adult    2622\n",
       "12  Female          (False, German Shepherd Dog, None, False)    Baby    2620\n",
       "13    Male                      (False, Terrier, None, False)   Young    2620\n",
       "14  Female                       (True, Terrier, None, False)   Young    2379\n",
       "15    Male             (False, Pit Bull Terrier, None, False)   Adult       2\n",
       "16    Male           (True, Pit Bull Terrier, Pointer, False)   Adult       1\n",
       "17  Female              (True, Pit Bull Terrier, None, False)   Adult       1\n",
       "18  Female                  (True, Chihuahua, Whippet, False)   Young       1\n",
       "19    Male  (True, Labrador Retriever, Newfoundland Dog, F...   Adult       1\n",
       "20  Female           (True, Hound, Labrador Retriever, False)   Young       1\n",
       "21    Male          (True, Yorkshire Terrier, Terrier, False)   Adult       1\n",
       "22    Male                   (True, Boxer, Cane Corso, False)    Baby       1\n",
       "23  Female  (True, Labrador Retriever, Pit Bull Terrier, F...  Senior       1\n",
       "24    Male  (True, Pit Bull Terrier, Labrador Retriever, F...   Adult       1\n",
       "25  Female          (False, Australian Shepherd, None, False)   Young       1"
      ]
     },
     "execution_count": 159,
     "metadata": {},
     "output_type": "execute_result"
    }
   ],
   "source": [
    "plot_breed"
   ]
  },
  {
   "cell_type": "code",
   "execution_count": 95,
   "metadata": {},
   "outputs": [
    {
     "data": {
      "image/png": "[encoded data removed]",
      "text/plain": [
       "<Figure size 720x216 with 1 Axes>"
      ]
     },
     "metadata": {},
     "output_type": "display_data"
    }
   ],
   "source": [
    "import matplotlib.pyplot as plt\n",
    "fig, ax = plt.subplots(1, figsize=(10,3))\n",
    "ax.bar(x = plot_gender['age'], height=plot_gender['Count'])\n",
    "ax.set_title(\"Count of Dogs by Gender\")\n",
    "\n",
    "ax.set_xlabel('Gender')\n",
    "ax.set_ylabel('Number of Dogs')\n",
    "plt.tight_layout()\n",
    "plt.show()"
   ]
  },
  {
   "cell_type": "code",
   "execution_count": 139,
   "metadata": {},
   "outputs": [
    {
     "data": {
      "image/png": "[encoded data removed]",
      "text/plain": [
       "<Figure size 432x288 with 1 Axes>"
      ]
     },
     "metadata": {},
     "output_type": "display_data"
    },
    {
     "data": {
      "text/plain": [
       "<Figure size 432x288 with 0 Axes>"
      ]
     },
     "metadata": {},
     "output_type": "display_data"
    }
   ],
   "source": [
    "\n",
    "import numpy as np\n",
    "import matplotlib\n",
    "import matplotlib.pyplot as plt\n",
    "plt.style.use('ggplot')\n",
    "matplotlib.rc('xtick', labelsize=16) \n",
    "matplotlib.rc('ytick', labelsize=16)\n",
    "plt.close('all')\n",
    "N = 4\n",
    "menMeans = (25001, 2620, 5000, 0)\n",
    "womenMeans = (2623, 17379, 22375, 1)\n",
    "menStd = (1, 1, 1, 100)\n",
    "womenStd = (1, 1, 1, 100)\n",
    "ind = np.arange(N)    # the x locations for the groups\n",
    "width = 0.35       # the width of the bars: can also be len(x) sequence\n",
    "\n",
    "p1 = plt.bar(ind, menMeans, width, yerr=menStd, color=['pink'])\n",
    "p2 = plt.bar(ind, womenMeans, width,bottom=menMeans, yerr=womenStd, color=['blue'])\n",
    "\n",
    "plt.ylabel('Number of Dogs', fontsize=17)\n",
    "plt.title('Dogs In Shelters By Age and Gender', fontsize=18)\n",
    "plt.xticks(ind, ('Baby', 'Young', 'Adult', 'Senior'))\n",
    "plt.yticks(np.arange(0, 35000, 10000))\n",
    "plt.figtext(0.8, 0.25, \n",
    "            \"1 Senior\", \n",
    "            horizontalalignment =\"center\",  \n",
    "            verticalalignment =\"center\",  \n",
    "            wrap = True, fontsize = 14,  \n",
    "            color =\"black\") \n",
    "plt.figtext(0.8, 0.19, \n",
    "            \"Female\", \n",
    "            horizontalalignment =\"center\",  \n",
    "            verticalalignment =\"center\",  \n",
    "            wrap = True, fontsize = 14,  \n",
    "            color =\"black\") \n",
    "plt.legend((p1[0], p2[0]), ('Female', 'Male'))\n",
    "\n",
    "plt.show()\n",
    "plt.savefig('../src/readme/by_age_and_gender');"
   ]
  },
  {
   "cell_type": "code",
   "execution_count": 114,
   "metadata": {},
   "outputs": [
    {
     "data": {
      "image/png": "[encoded data removed]",
      "text/plain": [
       "<Figure size 432x288 with 1 Axes>"
      ]
     },
     "metadata": {},
     "output_type": "display_data"
    }
   ],
   "source": [
    "\n",
    "plt.figtext(0.55, 0.7, \n",
    "            \"1 Senior Female\", \n",
    "            horizontalalignment =\"right\",  \n",
    "            verticalalignment =\"center\",  \n",
    "            wrap = True, fontsize = 14,  \n",
    "            color =\"black\") \n",
    "\n",
    "\n",
    "\n",
    "import numpy as np\n",
    "import matplotlib.pyplot as plt\n",
    "\n",
    "\n",
    "N = 5\n",
    "menMeans = (20, 35, 30, 35, 27)\n",
    "womenMeans = (25, 32, 34, 20, 25)\n",
    "menStd = (2, 3, 4, 1, 2)\n",
    "womenStd = (3, 5, 2, 3, 3)\n",
    "ind = np.arange(N)    # the x locations for the groups\n",
    "width = 0.35       # the width of the bars: can also be len(x) sequence\n",
    "\n",
    "p1 = plt.bar(ind, menMeans, width, yerr=menStd)\n",
    "p2 = plt.bar(ind, womenMeans, width,\n",
    "             bottom=menMeans, yerr=womenStd)\n",
    "\n",
    "plt.ylabel('Scores')\n",
    "plt.title('Scores by group and gender')\n",
    "plt.xticks(ind, ('G1', 'G2', 'G3', 'G4', 'G5'))\n",
    "plt.yticks(np.arange(0, 81, 10))\n",
    "plt.legend((p1[0], p2[0]), ('Men', 'Women'))\n",
    "\n",
    "plt.show()"
   ]
  },
  {
   "cell_type": "code",
   "execution_count": null,
   "metadata": {},
   "outputs": [],
   "source": []
  }
 ],
 "metadata": {
  "kernelspec": {
   "display_name": "Python 3",
   "language": "python",
   "name": "python3"
  },
  "language_info": {
   "codemirror_mode": {
    "name": "ipython",
    "version": 3
   },
   "file_extension": ".py",
   "mimetype": "text/x-python",
   "name": "python",
   "nbconvert_exporter": "python",
   "pygments_lexer": "ipython3",
   "version": "3.8.3"
  }
 },
 "nbformat": 4,
 "nbformat_minor": 4
}
