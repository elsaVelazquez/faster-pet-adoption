{
 "cells": [
  {
   "cell_type": "code",
   "execution_count": 1,
   "metadata": {},
   "outputs": [],
   "source": [
    "import pyspark as ps    # for the pyspark suite\n",
    "from pyspark.sql.types import *\n",
    "from datetime import datetime\n",
    "import json\n",
    "\n",
    "spark = ps.sql.SparkSession.builder \\\n",
    "            .master(\"local[4]\") \\\n",
    "            .appName(\"sparkSQL exercise\") \\\n",
    "            .getOrCreate()\n",
    "\n",
    "sc = spark.sparkContext "
   ]
  },
  {
   "cell_type": "code",
   "execution_count": 2,
   "metadata": {},
   "outputs": [],
   "source": [
    "def apply_json(input_lst):\n",
    "    try:\n",
    "        return json.loads(input_lst)#['animals'][0]                                               \n",
    "    except:\n",
    "        return None #None None None None None None None "
   ]
  },
  {
   "cell_type": "code",
   "execution_count": 3,
   "metadata": {},
   "outputs": [],
   "source": [
    "# data_filepath = '../data/json_dump/output_4994.json'\n",
    "# data_filepath = '../src/big_json_subset_copy.json'\n",
    "# data_filepath = '../src/big_json_201MB.json'\n",
    "data_filepath = '../src/big_json_v2.json'\n",
    "\n",
    "\n",
    "data = sc.textFile(data_filepath).map(apply_json) #reads in the json file"
   ]
  },
  {
   "cell_type": "code",
   "execution_count": 4,
   "metadata": {},
   "outputs": [
    {
     "name": "stdout",
     "output_type": "stream",
     "text": [
      "PythonRDD[2] at RDD at PythonRDD.scala:53\n"
     ]
    }
   ],
   "source": [
    "print(data)\n",
    "#create a pipeline to mash dataframes\n",
    "\n",
    "# df_temp = spark.read.json(data_filepath, multiLine = True)"
   ]
  },
  {
   "cell_type": "code",
   "execution_count": 5,
   "metadata": {},
   "outputs": [],
   "source": [
    "#remove outer dictionary from every file\n"
   ]
  },
  {
   "cell_type": "code",
   "execution_count": 6,
   "metadata": {},
   "outputs": [],
   "source": [
    "df = spark.read.json(data_filepath, multiLine = True)"
   ]
  },
  {
   "cell_type": "code",
   "execution_count": 7,
   "metadata": {},
   "outputs": [
    {
     "data": {
      "text/plain": [
       "1400"
      ]
     },
     "execution_count": 7,
     "metadata": {},
     "output_type": "execute_result"
    }
   ],
   "source": [
    "df.count()"
   ]
  },
  {
   "cell_type": "code",
   "execution_count": 8,
   "metadata": {
    "scrolled": true
   },
   "outputs": [
    {
     "name": "stdout",
     "output_type": "stream",
     "text": [
      "+--------------------+-----+--------------------+--------------------+----+--------------------+--------------------+--------------------+--------+--------------------+------+--------+---------------+----------------------+---------------+--------------------+---------------------+--------------------+------+-------+-------+--------------------+----+----+--------------------+------+\n",
      "|              _links|  age|          attributes|              breeds|coat|              colors|             contact|         description|distance|         environment|gender|      id|           name|organization_animal_id|organization_id|              photos|primary_photo_cropped|        published_at|  size|species| status|   status_changed_at|tags|type|                 url|videos|\n",
      "+--------------------+-----+--------------------+--------------------+----+--------------------+--------------------+--------------------+--------+--------------------+------+--------+---------------+----------------------+---------------+--------------------+---------------------+--------------------+------+-------+-------+--------------------+----+----+--------------------+------+\n",
      "|[[/v2/organizatio...|Adult|[, true, true, tr...|[true, Chihuahua,...|null|                [,,]|[[P.O. Box 372283...|Dexter is a cute ...|    null|  [true, true, true]|  Male|48734452|         Dexter|  7644127-DexterJG0...|         FL1178|                  []|                 null|2020-08-10T03:39:...| Small|    Dog|adopted|2020-08-10T03:39:...|  []| Dog|https://www.petfi...|    []|\n",
      "|[[/v2/organizatio...|Young|[false, false, fa...|[false, Tabby,, f...|null|                [,,]|[[,, Brooklyn, US...|                null|    null|                [,,]|  Male|48734448|         Purple|      15910199-20-0127|         NY1424|                  []|                 null|2020-08-10T03:38:...|Medium|    Cat|adopted|2020-08-10T03:38:...|  []| Cat|https://www.petfi...|    []|\n",
      "|[[/v2/organizatio...|Young|[false, false, fa...|[false, Domestic ...|null|                [,,]|[[,, Brooklyn, US...|                null|    null|                [,,]|Female|48734449|          Green|      15910130-20-0122|         NY1424|                  []|                 null|2020-08-10T03:38:...|Medium|    Cat|adopted|2020-08-10T03:38:...|  []| Cat|https://www.petfi...|    []|\n",
      "|[[/v2/organizatio...|Young|[, true, false, t...|[false, Great Dan...|null|                [,,]|[[PO Box 27061,, ...|You can fill out ...|    null|[false, true, false]|Female|48734431|         Dublin|      15722562-D200016|          AZ528|[[https://dl5zpyw...| [https://dl5zpyw5...|2020-08-10T03:23:...|Medium|    Dog|adopted|2020-08-10T03:23:...|  []| Dog|https://www.petfi...|    []|\n",
      "|[[/v2/organizatio...| Baby|[false, false, tr...|[true, Domestic S...|null|                [,,]|[[P.O. Box 72401,...|HUBBLE is a super...|    null|                [,,]|  Male|48734430|         Hubble|   15813761-2006-C0396|          OR251|[[https://dl5zpyw...| [https://dl5zpyw5...|2020-08-10T03:22:...|Medium|    Cat|adopted|2020-08-10T03:22:...|  []| Cat|https://www.petfi...|    []|\n",
      "|[[/v2/organizatio...|Young|[false, true, fal...|[true, Domestic S...|null|                [,,]|[[,, Phoenix, US,...|Hi. I&amp;#39;m M...|    null|  [true, true, true]|Female|48734406|MJ *Polydactyl*|              15656120|          AZ627|[[https://dl5zpyw...| [https://dl5zpyw5...|2020-08-10T03:08:...|Medium|    Cat|adopted|2020-08-10T03:08:...|  []| Cat|https://www.petfi...|    []|\n",
      "|[[/v2/organizatio...|Young|[false, true, fal...|[true, Domestic S...|null|                [,,]|[[,, Phoenix, US,...|Ross is a very sw...|    null|  [true, true, true]|  Male|48734405|           Ross|              15622927|          AZ627|[[https://dl5zpyw...| [https://dl5zpyw5...|2020-08-10T03:08:...|Medium|    Cat|adopted|2020-08-10T03:08:...|  []| Cat|https://www.petfi...|    []|\n",
      "|[[/v2/organizatio...| Baby|[, false, false, ...|[true, Shepherd, ...|null|                [,,]|[[PO Box 93163,, ...|6 week old male, ...|    null|           [, true,]|  Male|48734398|      Wolverine|              15903404|         TX2186|[[https://dl5zpyw...| [https://dl5zpyw5...|2020-08-10T03:07:...|Medium|    Dog|adopted|2020-08-10T03:07:...|  []| Dog|https://www.petfi...|    []|\n",
      "|[[/v2/organizatio...| Baby|[, false, false, ...|[true, Shepherd, ...|null|                [,,]|[[PO Box 93163,, ...|6 week old male, ...|    null|           [, true,]|  Male|48734397|       Superman|              15903403|         TX2186|[[https://dl5zpyw...| [https://dl5zpyw5...|2020-08-10T03:07:...|Medium|    Dog|adopted|2020-08-10T03:07:...|  []| Dog|https://www.petfi...|    []|\n",
      "|[[/v2/organizatio...| Baby|[false, false, fa...|[false, Domestic ...|null|                [,,]|[[15321 Brand Bou...|                null|    null|                [,,]|  Male|48734390|        Coconut|              15711443|         CA1074|                  []|                 null|2020-08-10T03:06:...|Medium|    Cat|adopted|2020-08-10T03:06:...|  []| Cat|https://www.petfi...|    []|\n",
      "|[[/v2/organizatio...| Baby|[false, false, fa...|[false, Domestic ...|null|                [,,]|[[15321 Brand Bou...|                null|    null|                [,,]|Female|48734391|         Cherry|              15711444|         CA1074|                  []|                 null|2020-08-10T03:06:...|Medium|    Cat|adopted|2020-08-10T03:06:...|  []| Cat|https://www.petfi...|    []|\n",
      "|[[/v2/organizatio...|Young|[false, false, fa...|[false, Domestic ...|null|[Black & White / ...|[[3141 West US 40...|You can fill out ...|    null|                [,,]|  Male|48734361|    Sir Mittens|       15743284-20F110|          IN353|[[https://dl5zpyw...| [https://dl5zpyw5...|2020-08-10T02:54:...|Medium|    Cat|adopted|2020-08-10T02:54:...|  []| Cat|https://www.petfi...|    []|\n",
      "|[[/v2/organizatio...|Young|[false, true, fal...|[true, Domestic S...|null|                [,,]|[[,, Phoenix, US,...|                null|    null|  [true, true, true]|Female|48734360|           Zoey|              15555564|          AZ627|                  []|                 null|2020-08-10T02:53:...|Medium|    Cat|adopted|2020-08-10T02:53:...|  []| Cat|https://www.petfi...|    []|\n",
      "|[[/v2/organizatio...|Young|[false, true, fal...|[true, Domestic S...|null|                [,,]|[[,, Phoenix, US,...|Will looks just l...|    null|  [true, true, true]|  Male|48734359|           Will|              15554223|          AZ627|[[https://dl5zpyw...| [https://dl5zpyw5...|2020-08-10T02:53:...|Medium|    Cat|adopted|2020-08-10T02:53:...|  []| Cat|https://www.petfi...|    []|\n",
      "|[[/v2/organizatio...|Adult|[, false, false, ...|[true, Australian...|null|                [,,]|[[,, Houston, US,...|                null|    null|                [,,]|Female|48734356|           Katy|      15530531-20-0048|         TX2153|[[https://dl5zpyw...| [https://dl5zpyw5...|2020-08-10T02:53:...|Medium|    Dog|adopted|2020-08-10T02:53:...|  []| Dog|https://www.petfi...|    []|\n",
      "|[[/v2/organizatio...|Young|[, false, false, ...|[true, Husky, Cat...|null|                [,,]|[[,, Phoenix, US,...|Dakota is a lovel...|    null|      [, true, true]|Female|48734355|         Dakota|              15887608|          AZ358|[[https://dl5zpyw...| [https://dl5zpyw5...|2020-08-10T02:53:...| Large|    Dog|adopted|2020-08-10T02:53:...|  []| Dog|https://www.petfi...|    []|\n",
      "|[[/v2/organizatio...|Young|[false, true, fal...|[true, Domestic S...|null|                [,,]|[[,, Phoenix, US,...|Wendall is just a...|    null|  [true, true, true]|  Male|48734309|        Wendall|              15554225|          AZ627|[[https://dl5zpyw...| [https://dl5zpyw5...|2020-08-10T02:38:...|Medium|    Cat|adopted|2020-08-10T02:38:...|  []| Cat|https://www.petfi...|    []|\n",
      "|[[/v2/organizatio...|Adult|[, false, true, t...|[true, Chihuahua,...|null|                [,,]|[[,, Aurora, US, ...|You can fill out ...|    null|                [,,]|Female|48734298|         Carmel|              15835319|          CO202|[[https://dl5zpyw...| [https://dl5zpyw5...|2020-08-10T02:35:...| Small|    Dog|adopted|2020-08-10T02:35:...|  []| Dog|https://www.petfi...|    []|\n",
      "|[[/v2/organizatio...| Baby|[false, true, tru...|[false, Domestic ...|null|  [Orange & White,,]|[[,, Reisterstown...|Adopt Butters!\n",
      "Bu...|    null|  [true, true, true]|  Male|48734268|        Butters|              15849580|          MD289|[[https://dl5zpyw...| [https://dl5zpyw5...|2020-08-10T02:25:...| Small|    Cat|adopted|2020-08-10T02:25:...|  []| Cat|https://www.petfi...|    []|\n",
      "|[[/v2/organizatio...| Baby|[, true, true, tr...|[true, Hound, Bla...|null|                [,,]|[[,, Houston, US,...|Steve is a 10 mon...|    null|  [true, true, true]|  Male|48734244|          Steve|      14935183-19-0101|         TX2153|[[https://dl5zpyw...| [https://dl5zpyw5...|2020-08-10T02:22:...| Large|    Dog|adopted|2020-08-10T02:22:...|  []| Dog|https://www.petfi...|    []|\n",
      "+--------------------+-----+--------------------+--------------------+----+--------------------+--------------------+--------------------+--------+--------------------+------+--------+---------------+----------------------+---------------+--------------------+---------------------+--------------------+------+-------+-------+--------------------+----+----+--------------------+------+\n",
      "only showing top 20 rows\n",
      "\n"
     ]
    }
   ],
   "source": [
    "df.show(20)"
   ]
  },
  {
   "cell_type": "code",
   "execution_count": 9,
   "metadata": {
    "scrolled": false
   },
   "outputs": [
    {
     "name": "stdout",
     "output_type": "stream",
     "text": [
      "root\n",
      " |-- _links: struct (nullable = true)\n",
      " |    |-- organization: struct (nullable = true)\n",
      " |    |    |-- href: string (nullable = true)\n",
      " |    |-- self: struct (nullable = true)\n",
      " |    |    |-- href: string (nullable = true)\n",
      " |    |-- type: struct (nullable = true)\n",
      " |    |    |-- href: string (nullable = true)\n",
      " |-- age: string (nullable = true)\n",
      " |-- attributes: struct (nullable = true)\n",
      " |    |-- declawed: boolean (nullable = true)\n",
      " |    |-- house_trained: boolean (nullable = true)\n",
      " |    |-- shots_current: boolean (nullable = true)\n",
      " |    |-- spayed_neutered: boolean (nullable = true)\n",
      " |    |-- special_needs: boolean (nullable = true)\n",
      " |-- breeds: struct (nullable = true)\n",
      " |    |-- mixed: boolean (nullable = true)\n",
      " |    |-- primary: string (nullable = true)\n",
      " |    |-- secondary: string (nullable = true)\n",
      " |    |-- unknown: boolean (nullable = true)\n",
      " |-- coat: string (nullable = true)\n",
      " |-- colors: struct (nullable = true)\n",
      " |    |-- primary: string (nullable = true)\n",
      " |    |-- secondary: string (nullable = true)\n",
      " |    |-- tertiary: string (nullable = true)\n",
      " |-- contact: struct (nullable = true)\n",
      " |    |-- address: struct (nullable = true)\n",
      " |    |    |-- address1: string (nullable = true)\n",
      " |    |    |-- address2: string (nullable = true)\n",
      " |    |    |-- city: string (nullable = true)\n",
      " |    |    |-- country: string (nullable = true)\n",
      " |    |    |-- postcode: string (nullable = true)\n",
      " |    |    |-- state: string (nullable = true)\n",
      " |    |-- email: string (nullable = true)\n",
      " |    |-- phone: string (nullable = true)\n",
      " |-- description: string (nullable = true)\n",
      " |-- distance: string (nullable = true)\n",
      " |-- environment: struct (nullable = true)\n",
      " |    |-- cats: boolean (nullable = true)\n",
      " |    |-- children: boolean (nullable = true)\n",
      " |    |-- dogs: boolean (nullable = true)\n",
      " |-- gender: string (nullable = true)\n",
      " |-- id: long (nullable = true)\n",
      " |-- name: string (nullable = true)\n",
      " |-- organization_animal_id: string (nullable = true)\n",
      " |-- organization_id: string (nullable = true)\n",
      " |-- photos: array (nullable = true)\n",
      " |    |-- element: struct (containsNull = true)\n",
      " |    |    |-- full: string (nullable = true)\n",
      " |    |    |-- large: string (nullable = true)\n",
      " |    |    |-- medium: string (nullable = true)\n",
      " |    |    |-- small: string (nullable = true)\n",
      " |-- primary_photo_cropped: struct (nullable = true)\n",
      " |    |-- full: string (nullable = true)\n",
      " |    |-- large: string (nullable = true)\n",
      " |    |-- medium: string (nullable = true)\n",
      " |    |-- small: string (nullable = true)\n",
      " |-- published_at: string (nullable = true)\n",
      " |-- size: string (nullable = true)\n",
      " |-- species: string (nullable = true)\n",
      " |-- status: string (nullable = true)\n",
      " |-- status_changed_at: string (nullable = true)\n",
      " |-- tags: array (nullable = true)\n",
      " |    |-- element: string (containsNull = true)\n",
      " |-- type: string (nullable = true)\n",
      " |-- url: string (nullable = true)\n",
      " |-- videos: array (nullable = true)\n",
      " |    |-- element: struct (containsNull = true)\n",
      " |    |    |-- embed: string (nullable = true)\n",
      "\n"
     ]
    }
   ],
   "source": [
    "# %%writefile initial_schema.py \n",
    "df.printSchema()\n"
   ]
  },
  {
   "cell_type": "code",
   "execution_count": 10,
   "metadata": {},
   "outputs": [],
   "source": [
    "# dogs = parts.map(lambda p: Row(id=p[0],\n",
    "#  age=int(p[1].strip())))\n",
    "\n"
   ]
  },
  {
   "cell_type": "code",
   "execution_count": 32,
   "metadata": {},
   "outputs": [
    {
     "name": "stdout",
     "output_type": "stream",
     "text": [
      "+------+---+----------+------+----+------+-------+-----------+--------+-----------+------+---+----+----------------------+---------------+------+---------------------+------------+----+-------+------+-----------------+----+----+---+------+\n",
      "|_links|age|attributes|breeds|coat|colors|contact|description|distance|environment|gender| id|name|organization_animal_id|organization_id|photos|primary_photo_cropped|published_at|size|species|status|status_changed_at|tags|type|url|videos|\n",
      "+------+---+----------+------+----+------+-------+-----------+--------+-----------+------+---+----+----------------------+---------------+------+---------------------+------------+----+-------+------+-----------------+----+----+---+------+\n",
      "+------+---+----------+------+----+------+-------+-----------+--------+-----------+------+---+----+----------------------+---------------+------+---------------------+------------+----+-------+------+-----------------+----+----+---+------+\n",
      "\n"
     ]
    }
   ],
   "source": [
    "df.na.drop().show()"
   ]
  },
  {
   "cell_type": "code",
   "execution_count": 31,
   "metadata": {},
   "outputs": [
    {
     "data": {
      "text/plain": [
       "1400"
      ]
     },
     "execution_count": 31,
     "metadata": {},
     "output_type": "execute_result"
    }
   ],
   "source": [
    "df.count()"
   ]
  },
  {
   "cell_type": "code",
   "execution_count": 82,
   "metadata": {},
   "outputs": [],
   "source": [
    "df_breed = df.select('id', 'age', 'gender', 'breeds', 'description', \\\n",
    "                     'status', 'photos', 'status_changed_at', 'species', \\\n",
    "                     df.species.like(\"Dog\")) "
   ]
  },
  {
   "cell_type": "code",
   "execution_count": 81,
   "metadata": {},
   "outputs": [
    {
     "data": {
      "text/plain": [
       "1400"
      ]
     },
     "execution_count": 81,
     "metadata": {},
     "output_type": "execute_result"
    }
   ],
   "source": [
    "df.count()"
   ]
  },
  {
   "cell_type": "code",
   "execution_count": 79,
   "metadata": {},
   "outputs": [
    {
     "data": {
      "text/plain": [
       "1400"
      ]
     },
     "execution_count": 79,
     "metadata": {},
     "output_type": "execute_result"
    }
   ],
   "source": [
    "df_breed.count()"
   ]
  },
  {
   "cell_type": "code",
   "execution_count": 76,
   "metadata": {},
   "outputs": [
    {
     "name": "stdout",
     "output_type": "stream",
     "text": [
      "+--------+-----+------+--------------------+--------------------+-------+--------------------+--------------------+-------+----------------+\n",
      "|      id|  age|gender|              breeds|         description| status|              photos|   status_changed_at|species|species LIKE dog|\n",
      "+--------+-----+------+--------------------+--------------------+-------+--------------------+--------------------+-------+----------------+\n",
      "|48734452|Adult|  Male|[true, Chihuahua,...|Dexter is a cute ...|adopted|                  []|2020-08-10T03:39:...|    Dog|           false|\n",
      "|48734448|Young|  Male|[false, Tabby,, f...|          DUMMY_TEXT|adopted|                  []|2020-08-10T03:38:...|    Cat|           false|\n",
      "|48734449|Young|Female|[false, Domestic ...|          DUMMY_TEXT|adopted|                  []|2020-08-10T03:38:...|    Cat|           false|\n",
      "|48734431|Young|Female|[false, Great Dan...|You can fill out ...|adopted|[[https://dl5zpyw...|2020-08-10T03:23:...|    Dog|           false|\n",
      "|48734430| Baby|  Male|[true, Domestic S...|HUBBLE is a super...|adopted|[[https://dl5zpyw...|2020-08-10T03:22:...|    Cat|           false|\n",
      "|48734406|Young|Female|[true, Domestic S...|Hi. I&amp;#39;m M...|adopted|[[https://dl5zpyw...|2020-08-10T03:08:...|    Cat|           false|\n",
      "|48734405|Young|  Male|[true, Domestic S...|Ross is a very sw...|adopted|[[https://dl5zpyw...|2020-08-10T03:08:...|    Cat|           false|\n",
      "|48734398| Baby|  Male|[true, Shepherd, ...|6 week old male, ...|adopted|[[https://dl5zpyw...|2020-08-10T03:07:...|    Dog|           false|\n",
      "|48734397| Baby|  Male|[true, Shepherd, ...|6 week old male, ...|adopted|[[https://dl5zpyw...|2020-08-10T03:07:...|    Dog|           false|\n",
      "|48734390| Baby|  Male|[false, Domestic ...|          DUMMY_TEXT|adopted|                  []|2020-08-10T03:06:...|    Cat|           false|\n",
      "|48734391| Baby|Female|[false, Domestic ...|          DUMMY_TEXT|adopted|                  []|2020-08-10T03:06:...|    Cat|           false|\n",
      "|48734361|Young|  Male|[false, Domestic ...|You can fill out ...|adopted|[[https://dl5zpyw...|2020-08-10T02:54:...|    Cat|           false|\n",
      "|48734360|Young|Female|[true, Domestic S...|          DUMMY_TEXT|adopted|                  []|2020-08-10T02:53:...|    Cat|           false|\n",
      "|48734359|Young|  Male|[true, Domestic S...|Will looks just l...|adopted|[[https://dl5zpyw...|2020-08-10T02:53:...|    Cat|           false|\n",
      "|48734356|Adult|Female|[true, Australian...|          DUMMY_TEXT|adopted|[[https://dl5zpyw...|2020-08-10T02:53:...|    Dog|           false|\n",
      "|48734355|Young|Female|[true, Husky, Cat...|Dakota is a lovel...|adopted|[[https://dl5zpyw...|2020-08-10T02:53:...|    Dog|           false|\n",
      "|48734309|Young|  Male|[true, Domestic S...|Wendall is just a...|adopted|[[https://dl5zpyw...|2020-08-10T02:38:...|    Cat|           false|\n",
      "|48734298|Adult|Female|[true, Chihuahua,...|You can fill out ...|adopted|[[https://dl5zpyw...|2020-08-10T02:35:...|    Dog|           false|\n",
      "|48734268| Baby|  Male|[false, Domestic ...|Adopt Butters!\n",
      "Bu...|adopted|[[https://dl5zpyw...|2020-08-10T02:25:...|    Cat|           false|\n",
      "|48734244| Baby|  Male|[true, Hound, Bla...|Steve is a 10 mon...|adopted|[[https://dl5zpyw...|2020-08-10T02:22:...|    Dog|           false|\n",
      "+--------+-----+------+--------------------+--------------------+-------+--------------------+--------------------+-------+----------------+\n",
      "only showing top 20 rows\n",
      "\n"
     ]
    }
   ],
   "source": [
    "df_clean_breed = df_breed.na.fill('DUMMY_TEXT').show()"
   ]
  },
  {
   "cell_type": "code",
   "execution_count": 71,
   "metadata": {},
   "outputs": [
    {
     "name": "stdout",
     "output_type": "stream",
     "text": [
      "+--------+-----+------+--------------------+--------------------+-------+--------------------+--------------------+-------+----------------+\n",
      "|      id|  age|gender|              breeds|         description| status|              photos|   status_changed_at|species|species LIKE dog|\n",
      "+--------+-----+------+--------------------+--------------------+-------+--------------------+--------------------+-------+----------------+\n",
      "|48734452|Adult|  Male|[true, Chihuahua,...|Dexter is a cute ...|adopted|                  []|2020-08-10T03:39:...|    Dog|           false|\n",
      "|48734448|Young|  Male|[false, Tabby,, f...|                null|adopted|                  []|2020-08-10T03:38:...|    Cat|           false|\n",
      "|48734449|Young|Female|[false, Domestic ...|                null|adopted|                  []|2020-08-10T03:38:...|    Cat|           false|\n",
      "|48734431|Young|Female|[false, Great Dan...|You can fill out ...|adopted|[[https://dl5zpyw...|2020-08-10T03:23:...|    Dog|           false|\n",
      "|48734430| Baby|  Male|[true, Domestic S...|HUBBLE is a super...|adopted|[[https://dl5zpyw...|2020-08-10T03:22:...|    Cat|           false|\n",
      "|48734406|Young|Female|[true, Domestic S...|Hi. I&amp;#39;m M...|adopted|[[https://dl5zpyw...|2020-08-10T03:08:...|    Cat|           false|\n",
      "|48734405|Young|  Male|[true, Domestic S...|Ross is a very sw...|adopted|[[https://dl5zpyw...|2020-08-10T03:08:...|    Cat|           false|\n",
      "|48734398| Baby|  Male|[true, Shepherd, ...|6 week old male, ...|adopted|[[https://dl5zpyw...|2020-08-10T03:07:...|    Dog|           false|\n",
      "|48734397| Baby|  Male|[true, Shepherd, ...|6 week old male, ...|adopted|[[https://dl5zpyw...|2020-08-10T03:07:...|    Dog|           false|\n",
      "|48734390| Baby|  Male|[false, Domestic ...|                null|adopted|                  []|2020-08-10T03:06:...|    Cat|           false|\n",
      "|48734391| Baby|Female|[false, Domestic ...|                null|adopted|                  []|2020-08-10T03:06:...|    Cat|           false|\n",
      "|48734361|Young|  Male|[false, Domestic ...|You can fill out ...|adopted|[[https://dl5zpyw...|2020-08-10T02:54:...|    Cat|           false|\n",
      "|48734360|Young|Female|[true, Domestic S...|                null|adopted|                  []|2020-08-10T02:53:...|    Cat|           false|\n",
      "|48734359|Young|  Male|[true, Domestic S...|Will looks just l...|adopted|[[https://dl5zpyw...|2020-08-10T02:53:...|    Cat|           false|\n",
      "|48734356|Adult|Female|[true, Australian...|                null|adopted|[[https://dl5zpyw...|2020-08-10T02:53:...|    Dog|           false|\n",
      "|48734355|Young|Female|[true, Husky, Cat...|Dakota is a lovel...|adopted|[[https://dl5zpyw...|2020-08-10T02:53:...|    Dog|           false|\n",
      "|48734309|Young|  Male|[true, Domestic S...|Wendall is just a...|adopted|[[https://dl5zpyw...|2020-08-10T02:38:...|    Cat|           false|\n",
      "|48734298|Adult|Female|[true, Chihuahua,...|You can fill out ...|adopted|[[https://dl5zpyw...|2020-08-10T02:35:...|    Dog|           false|\n",
      "|48734268| Baby|  Male|[false, Domestic ...|Adopt Butters!\n",
      "Bu...|adopted|[[https://dl5zpyw...|2020-08-10T02:25:...|    Cat|           false|\n",
      "|48734244| Baby|  Male|[true, Hound, Bla...|Steve is a 10 mon...|adopted|[[https://dl5zpyw...|2020-08-10T02:22:...|    Dog|           false|\n",
      "+--------+-----+------+--------------------+--------------------+-------+--------------------+--------------------+-------+----------------+\n",
      "only showing top 20 rows\n",
      "\n"
     ]
    }
   ],
   "source": [
    "df_breed.show()"
   ]
  },
  {
   "cell_type": "code",
   "execution_count": 72,
   "metadata": {},
   "outputs": [],
   "source": [
    "df_breed_dropna = df_breed.na.drop()"
   ]
  },
  {
   "cell_type": "code",
   "execution_count": 73,
   "metadata": {},
   "outputs": [
    {
     "name": "stdout",
     "output_type": "stream",
     "text": [
      "+--------+-----+------+--------------------+--------------------+-------+--------------------+--------------------+-------+----------------+\n",
      "|      id|  age|gender|              breeds|         description| status|              photos|   status_changed_at|species|species LIKE dog|\n",
      "+--------+-----+------+--------------------+--------------------+-------+--------------------+--------------------+-------+----------------+\n",
      "|48734452|Adult|  Male|[true, Chihuahua,...|Dexter is a cute ...|adopted|                  []|2020-08-10T03:39:...|    Dog|           false|\n",
      "|48734431|Young|Female|[false, Great Dan...|You can fill out ...|adopted|[[https://dl5zpyw...|2020-08-10T03:23:...|    Dog|           false|\n",
      "|48734430| Baby|  Male|[true, Domestic S...|HUBBLE is a super...|adopted|[[https://dl5zpyw...|2020-08-10T03:22:...|    Cat|           false|\n",
      "|48734406|Young|Female|[true, Domestic S...|Hi. I&amp;#39;m M...|adopted|[[https://dl5zpyw...|2020-08-10T03:08:...|    Cat|           false|\n",
      "|48734405|Young|  Male|[true, Domestic S...|Ross is a very sw...|adopted|[[https://dl5zpyw...|2020-08-10T03:08:...|    Cat|           false|\n",
      "|48734398| Baby|  Male|[true, Shepherd, ...|6 week old male, ...|adopted|[[https://dl5zpyw...|2020-08-10T03:07:...|    Dog|           false|\n",
      "|48734397| Baby|  Male|[true, Shepherd, ...|6 week old male, ...|adopted|[[https://dl5zpyw...|2020-08-10T03:07:...|    Dog|           false|\n",
      "|48734361|Young|  Male|[false, Domestic ...|You can fill out ...|adopted|[[https://dl5zpyw...|2020-08-10T02:54:...|    Cat|           false|\n",
      "|48734359|Young|  Male|[true, Domestic S...|Will looks just l...|adopted|[[https://dl5zpyw...|2020-08-10T02:53:...|    Cat|           false|\n",
      "|48734355|Young|Female|[true, Husky, Cat...|Dakota is a lovel...|adopted|[[https://dl5zpyw...|2020-08-10T02:53:...|    Dog|           false|\n",
      "|48734309|Young|  Male|[true, Domestic S...|Wendall is just a...|adopted|[[https://dl5zpyw...|2020-08-10T02:38:...|    Cat|           false|\n",
      "|48734298|Adult|Female|[true, Chihuahua,...|You can fill out ...|adopted|[[https://dl5zpyw...|2020-08-10T02:35:...|    Dog|           false|\n",
      "|48734268| Baby|  Male|[false, Domestic ...|Adopt Butters!\n",
      "Bu...|adopted|[[https://dl5zpyw...|2020-08-10T02:25:...|    Cat|           false|\n",
      "|48734244| Baby|  Male|[true, Hound, Bla...|Steve is a 10 mon...|adopted|[[https://dl5zpyw...|2020-08-10T02:22:...|    Dog|           false|\n",
      "|48727608| Baby|Female|[true, Australian...|You can fill out ...|adopted|                  []|2020-08-09T03:02:...|    Dog|           false|\n",
      "|48727582|Young|Female|[true, Labrador R...|You can fill out ...|adopted|[[https://dl5zpyw...|2020-08-09T02:47:...|    Dog|           false|\n",
      "|48727583|Young|Female|[false, Australia...|You can fill out ...|adopted|[[https://dl5zpyw...|2020-08-09T02:47:...|    Dog|           false|\n",
      "|48727581|Young|  Male|[true, Treeing Wa...|You can fill out ...|adopted|[[https://dl5zpyw...|2020-08-09T02:47:...|    Dog|           false|\n",
      "|48727511| Baby|  Male|[true, German She...|***Thank you for ...|adopted|[[https://dl5zpyw...|2020-08-09T02:19:...|    Dog|           false|\n",
      "|48727503|Young|Female|[true, Maltese, P...|You can fill out ...|adopted|[[https://dl5zpyw...|2020-08-09T02:17:...|    Dog|           false|\n",
      "+--------+-----+------+--------------------+--------------------+-------+--------------------+--------------------+-------+----------------+\n",
      "only showing top 20 rows\n",
      "\n"
     ]
    }
   ],
   "source": [
    "df_breed_dropna.show()"
   ]
  },
  {
   "cell_type": "code",
   "execution_count": 59,
   "metadata": {},
   "outputs": [
    {
     "data": {
      "text/plain": [
       "1137"
      ]
     },
     "execution_count": 59,
     "metadata": {},
     "output_type": "execute_result"
    }
   ],
   "source": [
    "df_breed_dropna.count()"
   ]
  },
  {
   "cell_type": "code",
   "execution_count": 60,
   "metadata": {},
   "outputs": [
    {
     "name": "stdout",
     "output_type": "stream",
     "text": [
      "root\n",
      " |-- id: long (nullable = true)\n",
      " |-- age: string (nullable = true)\n",
      " |-- gender: string (nullable = true)\n",
      " |-- breeds: struct (nullable = true)\n",
      " |    |-- mixed: boolean (nullable = true)\n",
      " |    |-- primary: string (nullable = true)\n",
      " |    |-- secondary: string (nullable = true)\n",
      " |    |-- unknown: boolean (nullable = true)\n",
      " |-- description: string (nullable = true)\n",
      " |-- status: string (nullable = true)\n",
      " |-- photos: array (nullable = true)\n",
      " |    |-- element: struct (containsNull = true)\n",
      " |    |    |-- full: string (nullable = true)\n",
      " |    |    |-- large: string (nullable = true)\n",
      " |    |    |-- medium: string (nullable = true)\n",
      " |    |    |-- small: string (nullable = true)\n",
      " |-- status_changed_at: string (nullable = true)\n",
      " |-- species: string (nullable = true)\n",
      "\n"
     ]
    }
   ],
   "source": [
    "df_breed_dropna.printSchema()"
   ]
  },
  {
   "cell_type": "code",
   "execution_count": 61,
   "metadata": {},
   "outputs": [],
   "source": [
    "# dropped_df.createOrReplaceTempView(\"dog_data\")\n",
    "df_breed_dropna.createOrReplaceTempView(\"breed_data\")"
   ]
  },
  {
   "cell_type": "code",
   "execution_count": 64,
   "metadata": {},
   "outputs": [
    {
     "name": "stdout",
     "output_type": "stream",
     "text": [
      "+------+--------------------+-----+-------+-------+------+\n",
      "|gender|              breeds|  age| status|species|Number|\n",
      "+------+--------------------+-----+-------+-------+------+\n",
      "|  Male|[true, Domestic S...| Baby|adopted|    Cat|    37|\n",
      "|  Male|[true, Terrier, C...|Young|adopted|    Dog|    30|\n",
      "|  Male|[false, Domestic ...| Baby|adopted|    Cat|    28|\n",
      "|Female|[true, Domestic S...| Baby|adopted|    Cat|    22|\n",
      "|  Male|[true, Labrador R...|Young|adopted|    Dog|    20|\n",
      "|  Male|[false, Domestic ...|Young|adopted|    Cat|    18|\n",
      "|Female|[true, Chihuahua,...|Young|adopted|    Dog|    17|\n",
      "|  Male|[true, Domestic S...|Young|adopted|    Cat|    17|\n",
      "|Female|[false, Domestic ...| Baby|adopted|    Cat|    17|\n",
      "|Female|[true, Poodle,, f...|Young|adopted|    Dog|    16|\n",
      "|Female|[true, Shepherd,,...|Young|adopted|    Dog|    15|\n",
      "|Female|[true, Siamese,, ...| Baby|adopted|    Cat|    15|\n",
      "|  Male|[true, Siamese,, ...| Baby|adopted|    Cat|    14|\n",
      "|  Male|[false, Domestic ...|Adult|adopted|    Cat|    13|\n",
      "|  Male|[true, Pit Bull T...| Baby|adopted|    Dog|    12|\n",
      "|  Male|[true, German She...| Baby|adopted|    Dog|    11|\n",
      "|  Male|[true, Yorkshire ...|Young|adopted|    Dog|    10|\n",
      "|Female|[true, Maltese, P...|Young|adopted|    Dog|    10|\n",
      "|Female|[false, Husky,, f...|Young|adopted|    Dog|    10|\n",
      "|Female|[true, Jack Russe...|Adult|adopted|    Dog|     9|\n",
      "+------+--------------------+-----+-------+-------+------+\n",
      "only showing top 20 rows\n",
      "\n"
     ]
    }
   ],
   "source": [
    "result = spark.sql('''SELECT gender, breeds,age, status, species,\n",
    "                        COUNT(*) AS Number\n",
    "                        FROM breed_data\n",
    "                        GROUP BY gender, breeds, age, status, species\n",
    "                        ORDER BY COUNT(*) desc''')\n",
    "result.show(20)"
   ]
  },
  {
   "cell_type": "code",
   "execution_count": 51,
   "metadata": {},
   "outputs": [
    {
     "ename": "AnalysisException",
     "evalue": "Table or view not found: dog_data; line 4 pos 29;\n'Sort ['count DESC NULLS LAST], true\n+- 'Aggregate ['gender, 'age], ['gender, 'age, count(1) AS Count#1559L]\n   +- 'UnresolvedRelation [dog_data]\n",
     "output_type": "error",
     "traceback": [
      "\u001b[0;31m---------------------------------------------------------------------------\u001b[0m",
      "\u001b[0;31mAnalysisException\u001b[0m                         Traceback (most recent call last)",
      "\u001b[0;32m<ipython-input-51-e01e6683b7ad>\u001b[0m in \u001b[0;36m<module>\u001b[0;34m\u001b[0m\n\u001b[0;32m----> 1\u001b[0;31m result = spark.sql('''SELECT gender, \n\u001b[0m\u001b[1;32m      2\u001b[0m                             \u001b[0mage\u001b[0m\u001b[0;34m,\u001b[0m\u001b[0;34m\u001b[0m\u001b[0;34m\u001b[0m\u001b[0m\n\u001b[1;32m      3\u001b[0m                             \u001b[0mCOUNT\u001b[0m\u001b[0;34m(\u001b[0m\u001b[0;34m*\u001b[0m\u001b[0;34m)\u001b[0m \u001b[0mAS\u001b[0m \u001b[0mCount\u001b[0m\u001b[0;34m\u001b[0m\u001b[0;34m\u001b[0m\u001b[0m\n\u001b[1;32m      4\u001b[0m                         \u001b[0mFROM\u001b[0m \u001b[0mdog_data\u001b[0m\u001b[0;34m\u001b[0m\u001b[0;34m\u001b[0m\u001b[0m\n\u001b[1;32m      5\u001b[0m                         \u001b[0mGROUP\u001b[0m \u001b[0mBY\u001b[0m \u001b[0mgender\u001b[0m\u001b[0;34m,\u001b[0m \u001b[0mage\u001b[0m\u001b[0;34m\u001b[0m\u001b[0;34m\u001b[0m\u001b[0m\n",
      "\u001b[0;32m/usr/local/spark/python/pyspark/sql/session.py\u001b[0m in \u001b[0;36msql\u001b[0;34m(self, sqlQuery)\u001b[0m\n\u001b[1;32m    644\u001b[0m         \u001b[0;34m[\u001b[0m\u001b[0mRow\u001b[0m\u001b[0;34m(\u001b[0m\u001b[0mf1\u001b[0m\u001b[0;34m=\u001b[0m\u001b[0;36m1\u001b[0m\u001b[0;34m,\u001b[0m \u001b[0mf2\u001b[0m\u001b[0;34m=\u001b[0m\u001b[0;34mu'row1'\u001b[0m\u001b[0;34m)\u001b[0m\u001b[0;34m,\u001b[0m \u001b[0mRow\u001b[0m\u001b[0;34m(\u001b[0m\u001b[0mf1\u001b[0m\u001b[0;34m=\u001b[0m\u001b[0;36m2\u001b[0m\u001b[0;34m,\u001b[0m \u001b[0mf2\u001b[0m\u001b[0;34m=\u001b[0m\u001b[0;34mu'row2'\u001b[0m\u001b[0;34m)\u001b[0m\u001b[0;34m,\u001b[0m \u001b[0mRow\u001b[0m\u001b[0;34m(\u001b[0m\u001b[0mf1\u001b[0m\u001b[0;34m=\u001b[0m\u001b[0;36m3\u001b[0m\u001b[0;34m,\u001b[0m \u001b[0mf2\u001b[0m\u001b[0;34m=\u001b[0m\u001b[0;34mu'row3'\u001b[0m\u001b[0;34m)\u001b[0m\u001b[0;34m]\u001b[0m\u001b[0;34m\u001b[0m\u001b[0;34m\u001b[0m\u001b[0m\n\u001b[1;32m    645\u001b[0m         \"\"\"\n\u001b[0;32m--> 646\u001b[0;31m         \u001b[0;32mreturn\u001b[0m \u001b[0mDataFrame\u001b[0m\u001b[0;34m(\u001b[0m\u001b[0mself\u001b[0m\u001b[0;34m.\u001b[0m\u001b[0m_jsparkSession\u001b[0m\u001b[0;34m.\u001b[0m\u001b[0msql\u001b[0m\u001b[0;34m(\u001b[0m\u001b[0msqlQuery\u001b[0m\u001b[0;34m)\u001b[0m\u001b[0;34m,\u001b[0m \u001b[0mself\u001b[0m\u001b[0;34m.\u001b[0m\u001b[0m_wrapped\u001b[0m\u001b[0;34m)\u001b[0m\u001b[0;34m\u001b[0m\u001b[0;34m\u001b[0m\u001b[0m\n\u001b[0m\u001b[1;32m    647\u001b[0m \u001b[0;34m\u001b[0m\u001b[0m\n\u001b[1;32m    648\u001b[0m     \u001b[0;34m@\u001b[0m\u001b[0msince\u001b[0m\u001b[0;34m(\u001b[0m\u001b[0;36m2.0\u001b[0m\u001b[0;34m)\u001b[0m\u001b[0;34m\u001b[0m\u001b[0;34m\u001b[0m\u001b[0m\n",
      "\u001b[0;32m/usr/local/spark/python/lib/py4j-0.10.9-src.zip/py4j/java_gateway.py\u001b[0m in \u001b[0;36m__call__\u001b[0;34m(self, *args)\u001b[0m\n\u001b[1;32m   1302\u001b[0m \u001b[0;34m\u001b[0m\u001b[0m\n\u001b[1;32m   1303\u001b[0m         \u001b[0manswer\u001b[0m \u001b[0;34m=\u001b[0m \u001b[0mself\u001b[0m\u001b[0;34m.\u001b[0m\u001b[0mgateway_client\u001b[0m\u001b[0;34m.\u001b[0m\u001b[0msend_command\u001b[0m\u001b[0;34m(\u001b[0m\u001b[0mcommand\u001b[0m\u001b[0;34m)\u001b[0m\u001b[0;34m\u001b[0m\u001b[0;34m\u001b[0m\u001b[0m\n\u001b[0;32m-> 1304\u001b[0;31m         return_value = get_return_value(\n\u001b[0m\u001b[1;32m   1305\u001b[0m             answer, self.gateway_client, self.target_id, self.name)\n\u001b[1;32m   1306\u001b[0m \u001b[0;34m\u001b[0m\u001b[0m\n",
      "\u001b[0;32m/usr/local/spark/python/pyspark/sql/utils.py\u001b[0m in \u001b[0;36mdeco\u001b[0;34m(*a, **kw)\u001b[0m\n\u001b[1;32m    135\u001b[0m                 \u001b[0;31m# Hide where the exception came from that shows a non-Pythonic\u001b[0m\u001b[0;34m\u001b[0m\u001b[0;34m\u001b[0m\u001b[0;34m\u001b[0m\u001b[0m\n\u001b[1;32m    136\u001b[0m                 \u001b[0;31m# JVM exception message.\u001b[0m\u001b[0;34m\u001b[0m\u001b[0;34m\u001b[0m\u001b[0;34m\u001b[0m\u001b[0m\n\u001b[0;32m--> 137\u001b[0;31m                 \u001b[0mraise_from\u001b[0m\u001b[0;34m(\u001b[0m\u001b[0mconverted\u001b[0m\u001b[0;34m)\u001b[0m\u001b[0;34m\u001b[0m\u001b[0;34m\u001b[0m\u001b[0m\n\u001b[0m\u001b[1;32m    138\u001b[0m             \u001b[0;32melse\u001b[0m\u001b[0;34m:\u001b[0m\u001b[0;34m\u001b[0m\u001b[0;34m\u001b[0m\u001b[0m\n\u001b[1;32m    139\u001b[0m                 \u001b[0;32mraise\u001b[0m\u001b[0;34m\u001b[0m\u001b[0;34m\u001b[0m\u001b[0m\n",
      "\u001b[0;32m/usr/local/spark/python/pyspark/sql/utils.py\u001b[0m in \u001b[0;36mraise_from\u001b[0;34m(e)\u001b[0m\n",
      "\u001b[0;31mAnalysisException\u001b[0m: Table or view not found: dog_data; line 4 pos 29;\n'Sort ['count DESC NULLS LAST], true\n+- 'Aggregate ['gender, 'age], ['gender, 'age, count(1) AS Count#1559L]\n   +- 'UnresolvedRelation [dog_data]\n"
     ]
    }
   ],
   "source": [
    "result = spark.sql('''SELECT gender, \n",
    "                            age,\n",
    "                            COUNT(*) AS Count\n",
    "                        FROM dog_data\n",
    "                        GROUP BY gender, age\n",
    "                        ORDER BY count desc''')\n",
    "result.show(20)"
   ]
  },
  {
   "cell_type": "code",
   "execution_count": null,
   "metadata": {},
   "outputs": [],
   "source": [
    "result.show()"
   ]
  },
  {
   "cell_type": "code",
   "execution_count": null,
   "metadata": {},
   "outputs": [],
   "source": [
    "result.head(20)"
   ]
  },
  {
   "cell_type": "code",
   "execution_count": null,
   "metadata": {},
   "outputs": [],
   "source": [
    "plot_breed = result.toPandas()\n",
    "plot_breed['Number']\n",
    "plot_breed.dropna(inplace=True)"
   ]
  },
  {
   "cell_type": "code",
   "execution_count": null,
   "metadata": {},
   "outputs": [],
   "source": [
    "plot_breed"
   ]
  },
  {
   "cell_type": "code",
   "execution_count": null,
   "metadata": {},
   "outputs": [],
   "source": [
    "import matplotlib.pyplot as plt\n",
    "fig, ax = plt.subplots(1, figsize=(10,3))\n",
    "ax.bar(x = plot_gender['age'], height=plot_gender['Count'])\n",
    "ax.set_title(\"Count of Dogs by Gender\")\n",
    "\n",
    "ax.set_xlabel('Gender')\n",
    "ax.set_ylabel('Number of Dogs')\n",
    "plt.tight_layout()\n",
    "plt.show()"
   ]
  },
  {
   "cell_type": "code",
   "execution_count": null,
   "metadata": {},
   "outputs": [],
   "source": [
    "\n",
    "import numpy as np\n",
    "import matplotlib\n",
    "import matplotlib.pyplot as plt\n",
    "plt.style.use('ggplot')\n",
    "matplotlib.rc('xtick', labelsize=16) \n",
    "matplotlib.rc('ytick', labelsize=16)\n",
    "plt.close('all')\n",
    "N = 4\n",
    "menMeans = (25001, 2620, 5000, 0)\n",
    "womenMeans = (2623, 17379, 22375, 1)\n",
    "menStd = (1, 1, 1, 100)\n",
    "womenStd = (1, 1, 1, 100)\n",
    "ind = np.arange(N)    # the x locations for the groups\n",
    "width = 0.35       # the width of the bars: can also be len(x) sequence\n",
    "\n",
    "p1 = plt.bar(ind, menMeans, width, yerr=menStd, color=['pink'])\n",
    "p2 = plt.bar(ind, womenMeans, width,bottom=menMeans, yerr=womenStd, color=['blue'])\n",
    "\n",
    "plt.ylabel('Number of Dogs', fontsize=17)\n",
    "plt.title('Dogs In Shelters By Age and Gender', fontsize=18)\n",
    "plt.xticks(ind, ('Baby', 'Young', 'Adult', 'Senior'))\n",
    "plt.yticks(np.arange(0, 35000, 10000))\n",
    "plt.figtext(0.8, 0.25, \n",
    "            \"1 Senior\", \n",
    "            horizontalalignment =\"center\",  \n",
    "            verticalalignment =\"center\",  \n",
    "            wrap = True, fontsize = 14,  \n",
    "            color =\"black\") \n",
    "plt.figtext(0.8, 0.19, \n",
    "            \"Female\", \n",
    "            horizontalalignment =\"center\",  \n",
    "            verticalalignment =\"center\",  \n",
    "            wrap = True, fontsize = 14,  \n",
    "            color =\"black\") \n",
    "plt.legend((p1[0], p2[0]), ('Female', 'Male'))\n",
    "\n",
    "plt.show()\n",
    "plt.savefig('../src/readme/by_age_and_gender');"
   ]
  },
  {
   "cell_type": "code",
   "execution_count": null,
   "metadata": {},
   "outputs": [],
   "source": [
    "\n",
    "plt.figtext(0.55, 0.7, \n",
    "            \"1 Senior Female\", \n",
    "            horizontalalignment =\"right\",  \n",
    "            verticalalignment =\"center\",  \n",
    "            wrap = True, fontsize = 14,  \n",
    "            color =\"black\") \n",
    "\n",
    "\n",
    "\n",
    "import numpy as np\n",
    "import matplotlib.pyplot as plt\n",
    "\n",
    "\n",
    "N = 5\n",
    "menMeans = (20, 35, 30, 35, 27)\n",
    "womenMeans = (25, 32, 34, 20, 25)\n",
    "menStd = (2, 3, 4, 1, 2)\n",
    "womenStd = (3, 5, 2, 3, 3)\n",
    "ind = np.arange(N)    # the x locations for the groups\n",
    "width = 0.35       # the width of the bars: can also be len(x) sequence\n",
    "\n",
    "p1 = plt.bar(ind, menMeans, width, yerr=menStd)\n",
    "p2 = plt.bar(ind, womenMeans, width,\n",
    "             bottom=menMeans, yerr=womenStd)\n",
    "\n",
    "plt.ylabel('Scores')\n",
    "plt.title('Scores by group and gender')\n",
    "plt.xticks(ind, ('G1', 'G2', 'G3', 'G4', 'G5'))\n",
    "plt.yticks(np.arange(0, 81, 10))\n",
    "plt.legend((p1[0], p2[0]), ('Men', 'Women'))\n",
    "\n",
    "plt.show()"
   ]
  },
  {
   "cell_type": "code",
   "execution_count": null,
   "metadata": {},
   "outputs": [],
   "source": []
  }
 ],
 "metadata": {
  "kernelspec": {
   "display_name": "Python 3",
   "language": "python",
   "name": "python3"
  },
  "language_info": {
   "codemirror_mode": {
    "name": "ipython",
    "version": 3
   },
   "file_extension": ".py",
   "mimetype": "text/x-python",
   "name": "python",
   "nbconvert_exporter": "python",
   "pygments_lexer": "ipython3",
   "version": "3.8.3"
  }
 },
 "nbformat": 4,
 "nbformat_minor": 4
}
