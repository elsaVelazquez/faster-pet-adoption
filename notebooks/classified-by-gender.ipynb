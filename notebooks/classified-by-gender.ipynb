{
 "cells": [
  {
   "cell_type": "code",
   "execution_count": 1,
   "metadata": {},
   "outputs": [],
   "source": [
    "import pyspark as ps    # for the pyspark suite\n",
    "from pyspark.sql.types import *\n",
    "from datetime import datetime\n",
    "import json\n",
    "\n",
    "spark = ps.sql.SparkSession.builder \\\n",
    "            .master(\"local[4]\") \\\n",
    "            .appName(\"sparkSQL exercise\") \\\n",
    "            .getOrCreate()\n",
    "\n",
    "sc = spark.sparkContext "
   ]
  },
  {
   "cell_type": "code",
   "execution_count": 2,
   "metadata": {},
   "outputs": [],
   "source": [
    "def apply_json(input_lst):\n",
    "    try:\n",
    "        return json.loads(input_lst)['animals'][0]                                               \n",
    "    except:\n",
    "        return None"
   ]
  },
  {
   "cell_type": "code",
   "execution_count": 3,
   "metadata": {},
   "outputs": [],
   "source": [
    "# data_filepath = '../data/json_dump/output_4994.json'\n",
    "data_filepath = '../src/big_json.json'\n",
    "\n",
    "\n",
    "data = sc.textFile(data_filepath).map(apply_json) #reads in the json file"
   ]
  },
  {
   "cell_type": "code",
   "execution_count": 4,
   "metadata": {},
   "outputs": [
    {
     "name": "stdout",
     "output_type": "stream",
     "text": [
      "PythonRDD[2] at RDD at PythonRDD.scala:53\n"
     ]
    }
   ],
   "source": [
    "print(data)\n",
    "#create a pipeline to mash dataframes\n",
    "\n",
    "# df_temp = spark.read.json(data_filepath, multiLine = True)"
   ]
  },
  {
   "cell_type": "code",
   "execution_count": 5,
   "metadata": {},
   "outputs": [],
   "source": [
    "#remove outer dictionary from every file\n"
   ]
  },
  {
   "cell_type": "code",
   "execution_count": 6,
   "metadata": {},
   "outputs": [],
   "source": [
    "df = spark.read.json(data_filepath, multiLine = True)"
   ]
  },
  {
   "cell_type": "code",
   "execution_count": 7,
   "metadata": {},
   "outputs": [
    {
     "data": {
      "text/plain": [
       "100000"
      ]
     },
     "execution_count": 7,
     "metadata": {},
     "output_type": "execute_result"
    }
   ],
   "source": [
    "df.count()"
   ]
  },
  {
   "cell_type": "code",
   "execution_count": 8,
   "metadata": {
    "scrolled": true
   },
   "outputs": [
    {
     "name": "stdout",
     "output_type": "stream",
     "text": [
      "+--------------------+-----+--------------------+--------------------+----+------+--------------------+--------------------+--------+-------------------+------+--------+---------+----------------------+---------------+------+---------------------+--------------------+------+-------+---------+--------------------+----+----+--------------------+------+\n",
      "|              _links|  age|          attributes|              breeds|coat|colors|             contact|         description|distance|        environment|gender|      id|     name|organization_animal_id|organization_id|photos|primary_photo_cropped|        published_at|  size|species|   status|   status_changed_at|tags|type|                 url|videos|\n",
      "+--------------------+-----+--------------------+--------------------+----+------+--------------------+--------------------+--------+-------------------+------+--------+---------+----------------------+---------------+------+---------------------+--------------------+------+-------+---------+--------------------+----+----+--------------------+------+\n",
      "|[[/v2/organizatio...|Young|[, false, false, ...|[true, Chihuahua,...|null|  [,,]|[[2200 Peabody Rd...|Oh Snap! Snap is ...|    null|               [,,]|Female|48549327|     Snap|              T2020299|          CA162|    []|                 null|2020-07-21T10:04:...| Small|    Dog|adoptable|2020-07-21T10:04:...|  []| Dog|https://www.petfi...|    []|\n",
      "|[[/v2/organizatio...|Adult|[, false, true, t...|[true, Labrador R...|null|  [,,]|[[195 Cloaca Lane...|Handsome fellow, ...|    null|               [,,]|  Male|48549326|      Red|                203092|           AR07|    []|                 null|2020-07-21T10:04:...| Large|    Dog|adoptable|2020-07-21T10:04:...|  []| Dog|https://www.petfi...|    []|\n",
      "|[[/v2/organizatio...|Adult|[, false, true, t...|[true, Shepherd, ...|null|  [,,]|[[2010 Arcadia St...|                null|    null|               [,,]|  Male|48549322|    Sammy|              D2020832|           FL96|    []|                 null|2020-07-21T10:04:...|Medium|    Dog|adoptable|2020-07-21T10:04:...|  []| Dog|https://www.petfi...|    []|\n",
      "|[[/v2/organizatio...|Adult|[, false, true, t...|[true, Shih Tzu, ...|null|  [,,]|[[2010 Arcadia St...|                null|    null|               [,,]|Female|48549323|    Becca|              D2020515|           FL96|    []|                 null|2020-07-21T10:04:...| Small|    Dog|adoptable|2020-07-21T10:04:...|  []| Dog|https://www.petfi...|    []|\n",
      "|[[/v2/organizatio...|Adult|[, false, true, t...|[true, Dachshund,...|null|  [,,]|[[2010 Arcadia St...|                null|    null|               [,,]|Female|48549325|    Reese|              D2020838|           FL96|    []|                 null|2020-07-21T10:04:...| Small|    Dog|adoptable|2020-07-21T10:04:...|  []| Dog|https://www.petfi...|    []|\n",
      "|[[/v2/organizatio...|Adult|[, false, true, t...|[true, Terrier, M...|null|  [,,]|[[2010 Arcadia St...|                null|    null|               [,,]|Female|48549318|    Amber|              D2020364|           FL96|    []|                 null|2020-07-21T10:04:...|Medium|    Dog|adoptable|2020-07-21T10:04:...|  []| Dog|https://www.petfi...|    []|\n",
      "|[[/v2/organizatio...|Young|[, true, true, tr...|[false, Chihuahua...|null|  [,,]|[[,, Columbia, US...|Meet Sassy/MS! Th...|    null|      [true,, true]|Female|48549314| Sassy/MS|              15860948|          TN270|    []|                 null|2020-07-21T10:03:...| Small|    Dog|adoptable|2020-07-21T10:03:...|  []| Dog|https://www.petfi...|    []|\n",
      "|[[/v2/organizatio...| Baby|[, false, true, t...|[true, Chihuahua,...|null|  [,,]|[[,, Columbia, US...|Meet Dashia/MS!! ...|    null| [true, true, true]|Female|48549315|Dashia/MS|              15860945|          TN270|    []|                 null|2020-07-21T10:03:...| Small|    Dog|adoptable|2020-07-21T10:03:...|  []| Dog|https://www.petfi...|    []|\n",
      "|[[/v2/organizatio...| Baby|[, false, true, t...|[true, Chihuahua,...|null|  [,,]|[[,, Columbia, US...|Meet Misty/MS!! T...|    null|[true, false, true]|Female|48549316| Misty/MS|              15860946|          TN270|    []|                 null|2020-07-21T10:03:...| Small|    Dog|adoptable|2020-07-21T10:03:...|  []| Dog|https://www.petfi...|    []|\n",
      "|[[/v2/organizatio...| Baby|[, false, true, t...|[true, Maltese, C...|null|  [,,]|[[,, Columbia, US...|Meet Macy/MS! Thi...|    null|      [true,, true]|Female|48549317|  Macy/MS|              15860947|          TN270|    []|                 null|2020-07-21T10:03:...| Small|    Dog|adoptable|2020-07-21T10:03:...|  []| Dog|https://www.petfi...|    []|\n",
      "|[[/v2/organizatio...| Baby|[, false, true, t...|[true, German She...|null|  [,,]|[[PO Box 8,, Dods...|Willie is an ador...|    null|      [true,, true]|  Male|48549312|   Willie|              15860941|           MT87|    []|                 null|2020-07-21T10:03:...| Large|    Dog|adoptable|2020-07-21T10:03:...|  []| Dog|https://www.petfi...|    []|\n",
      "|[[/v2/organizatio...|Young|[, false, false, ...|[true, Bull Terri...|null|  [,,]|[[PO Box 8,, Dods...|                null|    null|               [,,]|Female|48549313|     Webo|              15860938|           MT87|    []|                 null|2020-07-21T10:03:...|Medium|    Dog|adoptable|2020-07-21T10:03:...|  []| Dog|https://www.petfi...|    []|\n",
      "|[[/v2/organizatio...|Adult|[, false, true, f...|[false, Hound,, f...|null|  [,,]|[[P.O. Box 840215...|Interested in ado...|    null|               [,,]|  Male|48549306|     Tony|                A12229|          FL819|    []|                 null|2020-07-21T10:03:...|Medium|    Dog|adoptable|2020-07-21T10:03:...|  []| Dog|https://www.petfi...|    []|\n",
      "|[[/v2/organizatio...|Adult|[, false, true, f...|[false, Dachshund...|null|  [,,]|[[P.O. Box 840215...|Interested in ado...|    null|               [,,]|  Male|48549307|     Chip|                A12231|          FL819|    []|                 null|2020-07-21T10:03:...| Small|    Dog|adoptable|2020-07-21T10:03:...|  []| Dog|https://www.petfi...|    []|\n",
      "|[[/v2/organizatio...|Adult|[, false, true, f...|[false, Dachshund...|null|  [,,]|[[P.O. Box 840215...|Interested in ado...|    null|               [,,]|  Male|48549309|     Dale|                A12232|          FL819|    []|                 null|2020-07-21T10:03:...| Small|    Dog|adoptable|2020-07-21T10:03:...|  []| Dog|https://www.petfi...|    []|\n",
      "|[[/v2/organizatio...|Adult|[, false, true, t...|[true, Australian...|null|  [,,]|[[P.O. Box 840215...|Interested in ado...|    null|               [,,]|  Male|48549310|    Teddy|                A12167|          FL819|    []|                 null|2020-07-21T10:03:...| Large|    Dog|adoptable|2020-07-21T10:03:...|  []| Dog|https://www.petfi...|    []|\n",
      "|[[/v2/organizatio...|Young|[, false, true, f...|[false, Rottweile...|null|  [,,]|[[P.O. Box 840215...|Interested in ado...|    null|               [,,]|Female|48549311| Babygirl|                A12117|          FL819|    []|                 null|2020-07-21T10:03:...| Large|    Dog|adoptable|2020-07-21T10:03:...|  []| Dog|https://www.petfi...|    []|\n",
      "|[[/v2/organizatio...|Adult|[, false, false, ...|[false, Pit Bull ...|null|  [,,]|[[123 Dog Cat Lan...|If you are intere...|    null|               [,,]|Female|48549288|    Peggy|             D20201331|          SC461|    []|                 null|2020-07-21T10:03:...| Large|    Dog|adoptable|2020-07-21T10:03:...|  []| Dog|https://www.petfi...|    []|\n",
      "|[[/v2/organizatio...| Baby|[, true, true, fa...|[false, German Sh...|null|  [,,]|[[,, Dacula, US, ...|Luna is a little ...|    null|          [false,,]|Female|48549284|     Luna|              D2020060|          GA537|    []|                 null|2020-07-21T10:03:...| Large|    Dog|adoptable|2020-07-21T10:03:...|  []| Dog|https://www.petfi...|    []|\n",
      "|[[/v2/organizatio...|Young|[, false, false, ...|[false, Terrier,,...|null|  [,,]|[[,, Raleigh, US,...|If you are intere...|    null|               [,,]|  Male|48549285|    Bruno|              D2020125|          NC807|    []|                 null|2020-07-21T10:03:...|Medium|    Dog|adoptable|2020-07-21T10:03:...|  []| Dog|https://www.petfi...|    []|\n",
      "+--------------------+-----+--------------------+--------------------+----+------+--------------------+--------------------+--------+-------------------+------+--------+---------+----------------------+---------------+------+---------------------+--------------------+------+-------+---------+--------------------+----+----+--------------------+------+\n",
      "only showing top 20 rows\n",
      "\n"
     ]
    }
   ],
   "source": [
    "df.show(20)"
   ]
  },
  {
   "cell_type": "code",
   "execution_count": 9,
   "metadata": {},
   "outputs": [
    {
     "name": "stdout",
     "output_type": "stream",
     "text": [
      "root\n",
      " |-- _links: struct (nullable = true)\n",
      " |    |-- organization: struct (nullable = true)\n",
      " |    |    |-- href: string (nullable = true)\n",
      " |    |-- self: struct (nullable = true)\n",
      " |    |    |-- href: string (nullable = true)\n",
      " |    |-- type: struct (nullable = true)\n",
      " |    |    |-- href: string (nullable = true)\n",
      " |-- age: string (nullable = true)\n",
      " |-- attributes: struct (nullable = true)\n",
      " |    |-- declawed: string (nullable = true)\n",
      " |    |-- house_trained: boolean (nullable = true)\n",
      " |    |-- shots_current: boolean (nullable = true)\n",
      " |    |-- spayed_neutered: boolean (nullable = true)\n",
      " |    |-- special_needs: boolean (nullable = true)\n",
      " |-- breeds: struct (nullable = true)\n",
      " |    |-- mixed: boolean (nullable = true)\n",
      " |    |-- primary: string (nullable = true)\n",
      " |    |-- secondary: string (nullable = true)\n",
      " |    |-- unknown: boolean (nullable = true)\n",
      " |-- coat: string (nullable = true)\n",
      " |-- colors: struct (nullable = true)\n",
      " |    |-- primary: string (nullable = true)\n",
      " |    |-- secondary: string (nullable = true)\n",
      " |    |-- tertiary: string (nullable = true)\n",
      " |-- contact: struct (nullable = true)\n",
      " |    |-- address: struct (nullable = true)\n",
      " |    |    |-- address1: string (nullable = true)\n",
      " |    |    |-- address2: string (nullable = true)\n",
      " |    |    |-- city: string (nullable = true)\n",
      " |    |    |-- country: string (nullable = true)\n",
      " |    |    |-- postcode: string (nullable = true)\n",
      " |    |    |-- state: string (nullable = true)\n",
      " |    |-- email: string (nullable = true)\n",
      " |    |-- phone: string (nullable = true)\n",
      " |-- description: string (nullable = true)\n",
      " |-- distance: string (nullable = true)\n",
      " |-- environment: struct (nullable = true)\n",
      " |    |-- cats: boolean (nullable = true)\n",
      " |    |-- children: boolean (nullable = true)\n",
      " |    |-- dogs: boolean (nullable = true)\n",
      " |-- gender: string (nullable = true)\n",
      " |-- id: long (nullable = true)\n",
      " |-- name: string (nullable = true)\n",
      " |-- organization_animal_id: string (nullable = true)\n",
      " |-- organization_id: string (nullable = true)\n",
      " |-- photos: array (nullable = true)\n",
      " |    |-- element: struct (containsNull = true)\n",
      " |    |    |-- full: string (nullable = true)\n",
      " |    |    |-- large: string (nullable = true)\n",
      " |    |    |-- medium: string (nullable = true)\n",
      " |    |    |-- small: string (nullable = true)\n",
      " |-- primary_photo_cropped: struct (nullable = true)\n",
      " |    |-- full: string (nullable = true)\n",
      " |    |-- large: string (nullable = true)\n",
      " |    |-- medium: string (nullable = true)\n",
      " |    |-- small: string (nullable = true)\n",
      " |-- published_at: string (nullable = true)\n",
      " |-- size: string (nullable = true)\n",
      " |-- species: string (nullable = true)\n",
      " |-- status: string (nullable = true)\n",
      " |-- status_changed_at: string (nullable = true)\n",
      " |-- tags: array (nullable = true)\n",
      " |    |-- element: string (containsNull = true)\n",
      " |-- type: string (nullable = true)\n",
      " |-- url: string (nullable = true)\n",
      " |-- videos: array (nullable = true)\n",
      " |    |-- element: string (containsNull = true)\n",
      "\n"
     ]
    }
   ],
   "source": [
    "df.printSchema()"
   ]
  },
  {
   "cell_type": "code",
   "execution_count": 10,
   "metadata": {},
   "outputs": [],
   "source": [
    "# dogs = parts.map(lambda p: Row(id=p[0],\n",
    "#  age=int(p[1].strip())))"
   ]
  },
  {
   "cell_type": "code",
   "execution_count": 11,
   "metadata": {},
   "outputs": [],
   "source": [
    "# df.show(10)"
   ]
  },
  {
   "cell_type": "code",
   "execution_count": 12,
   "metadata": {},
   "outputs": [],
   "source": [
    "df_new = df.select('id', 'age', 'gender', 'primary_photo_cropped', 'status', 'status_changed_at', 'description')"
   ]
  },
  {
   "cell_type": "code",
   "execution_count": 13,
   "metadata": {},
   "outputs": [
    {
     "data": {
      "text/plain": [
       "100000"
      ]
     },
     "execution_count": 13,
     "metadata": {},
     "output_type": "execute_result"
    }
   ],
   "source": [
    "df_new.count()"
   ]
  },
  {
   "cell_type": "code",
   "execution_count": 14,
   "metadata": {},
   "outputs": [],
   "source": [
    "dropped_df = df_new.na.drop()"
   ]
  },
  {
   "cell_type": "code",
   "execution_count": 15,
   "metadata": {},
   "outputs": [
    {
     "data": {
      "text/plain": [
       "9"
      ]
     },
     "execution_count": 15,
     "metadata": {},
     "output_type": "execute_result"
    }
   ],
   "source": [
    "dropped_df.count()"
   ]
  },
  {
   "cell_type": "code",
   "execution_count": 16,
   "metadata": {},
   "outputs": [
    {
     "name": "stdout",
     "output_type": "stream",
     "text": [
      "+--------+------+------+---------------------+---------+--------------------+--------------------+\n",
      "|      id|   age|gender|primary_photo_cropped|   status|   status_changed_at|         description|\n",
      "+--------+------+------+---------------------+---------+--------------------+--------------------+\n",
      "|48549034| Young|Female| [https://dl5zpyw5...|adoptable|2020-07-21T09:23:...|All puppies under...|\n",
      "|48549032| Young|Female| [https://dl5zpyw5...|adoptable|2020-07-21T09:17:...|Note: these girls...|\n",
      "|48549010| Adult|  Male| [https://dl5zpyw5...|adoptable|2020-07-21T09:06:...|Emmerson is being...|\n",
      "|48549014| Adult|Female| [https://dl5zpyw5...|adoptable|2020-07-21T09:06:...|Melody is such a ...|\n",
      "|48549018| Adult|Female| [https://dl5zpyw5...|adoptable|2020-07-21T09:06:...|Ally will be your...|\n",
      "|48549009| Adult|  Male| [https://dl5zpyw5...|adoptable|2020-07-21T09:06:...|Submissive sweet ...|\n",
      "|48549008| Adult|  Male| [https://dl5zpyw5...|adoptable|2020-07-21T09:06:...|Petey is a young ...|\n",
      "|48549016| Adult|  Male| [https://dl5zpyw5...|adoptable|2020-07-21T09:06:...|Adorable Sawyer i...|\n",
      "|48549017|Senior|Female| [https://dl5zpyw5...|adoptable|2020-07-21T09:06:...|Ada is currently ...|\n",
      "+--------+------+------+---------------------+---------+--------------------+--------------------+\n",
      "\n"
     ]
    }
   ],
   "source": [
    "dropped_df.show()"
   ]
  },
  {
   "cell_type": "code",
   "execution_count": 17,
   "metadata": {},
   "outputs": [
    {
     "name": "stdout",
     "output_type": "stream",
     "text": [
      "root\n",
      " |-- id: long (nullable = true)\n",
      " |-- age: string (nullable = true)\n",
      " |-- gender: string (nullable = true)\n",
      " |-- primary_photo_cropped: struct (nullable = true)\n",
      " |    |-- full: string (nullable = true)\n",
      " |    |-- large: string (nullable = true)\n",
      " |    |-- medium: string (nullable = true)\n",
      " |    |-- small: string (nullable = true)\n",
      " |-- status: string (nullable = true)\n",
      " |-- status_changed_at: string (nullable = true)\n",
      " |-- description: string (nullable = true)\n",
      "\n"
     ]
    }
   ],
   "source": [
    "dropped_df.printSchema()"
   ]
  },
  {
   "cell_type": "code",
   "execution_count": 18,
   "metadata": {},
   "outputs": [],
   "source": [
    "# dropped_df.createOrReplaceTempView(\"dog_data\")\n",
    "df_new.createOrReplaceTempView(\"dog_data\")"
   ]
  },
  {
   "cell_type": "code",
   "execution_count": 23,
   "metadata": {},
   "outputs": [
    {
     "name": "stdout",
     "output_type": "stream",
     "text": [
      "+------+------+-----+\n",
      "|gender|   age|Count|\n",
      "+------+------+-----+\n",
      "|  Male| Adult|30001|\n",
      "|Female| Young|22378|\n",
      "|Female|  Baby|22376|\n",
      "|Female| Adult|17623|\n",
      "|  Male|  Baby| 5001|\n",
      "|  Male| Young| 2620|\n",
      "|Female|Senior|    1|\n",
      "+------+------+-----+\n",
      "\n"
     ]
    }
   ],
   "source": [
    "result = spark.sql('''SELECT gender, \n",
    "                            age,\n",
    "                            COUNT(*) AS Count\n",
    "                        FROM dog_data\n",
    "                        GROUP BY gender, age\n",
    "                        ORDER BY COUNT(*) desc''')\n",
    "result.show(20)\n",
    "# result.show(20)"
   ]
  },
  {
   "cell_type": "code",
   "execution_count": 28,
   "metadata": {},
   "outputs": [
    {
     "name": "stdout",
     "output_type": "stream",
     "text": [
      "+------+------+-----+\n",
      "|gender|   age|Count|\n",
      "+------+------+-----+\n",
      "|  Male| Adult|30001|\n",
      "|Female| Young|22378|\n",
      "|Female|  Baby|22376|\n",
      "|Female| Adult|17623|\n",
      "|  Male|  Baby| 5001|\n",
      "|  Male| Young| 2620|\n",
      "|Female|Senior|    1|\n",
      "+------+------+-----+\n",
      "\n"
     ]
    }
   ],
   "source": [
    "result = spark.sql('''SELECT gender, \n",
    "                            age,\n",
    "                            COUNT(*) AS Count\n",
    "                        FROM dog_data\n",
    "                        GROUP BY gender, age\n",
    "                        ORDER BY count desc''')\n",
    "result.show(20)"
   ]
  },
  {
   "cell_type": "code",
   "execution_count": 45,
   "metadata": {},
   "outputs": [
    {
     "name": "stdout",
     "output_type": "stream",
     "text": [
      "+------+------+-----+\n",
      "|gender|   age|Count|\n",
      "+------+------+-----+\n",
      "|  Male| Adult|30001|\n",
      "|Female| Young|22378|\n",
      "|Female|  Baby|22376|\n",
      "|Female| Adult|17623|\n",
      "|  Male|  Baby| 5001|\n",
      "|  Male| Young| 2620|\n",
      "|Female|Senior|    1|\n",
      "+------+------+-----+\n",
      "\n"
     ]
    }
   ],
   "source": [
    "result.show()"
   ]
  },
  {
   "cell_type": "code",
   "execution_count": 38,
   "metadata": {},
   "outputs": [
    {
     "data": {
      "text/plain": [
       "[Row(gender='Male', age='Adult', Count=30001),\n",
       " Row(gender='Female', age='Young', Count=22378),\n",
       " Row(gender='Female', age='Baby', Count=22376),\n",
       " Row(gender='Female', age='Adult', Count=17623),\n",
       " Row(gender='Male', age='Baby', Count=5001),\n",
       " Row(gender='Male', age='Young', Count=2620),\n",
       " Row(gender='Female', age='Senior', Count=1)]"
      ]
     },
     "execution_count": 38,
     "metadata": {},
     "output_type": "execute_result"
    }
   ],
   "source": [
    "result.head(20)"
   ]
  },
  {
   "cell_type": "code",
   "execution_count": 42,
   "metadata": {},
   "outputs": [],
   "source": [
    "plot_gender = result.toPandas()\n",
    "plot_gender['Count']\n",
    "plot_gender.dropna(inplace=True)"
   ]
  },
  {
   "cell_type": "code",
   "execution_count": null,
   "metadata": {},
   "outputs": [],
   "source": []
  },
  {
   "cell_type": "code",
   "execution_count": 44,
   "metadata": {},
   "outputs": [
    {
     "data": {
      "image/png": "[encoded data removed]",
      "text/plain": [
       "<Figure size 720x216 with 1 Axes>"
      ]
     },
     "metadata": {
      "needs_background": "light"
     },
     "output_type": "display_data"
    }
   ],
   "source": [
    "import matplotlib.pyplot as plt\n",
    "fig, ax = plt.subplots(1, figsize=(10,3))\n",
    "ax.bar(x = plot_gender['gender'], height=plot_gender['Count'])\n",
    "ax.set_title(\"Count of Dogs by Gender\")\n",
    "\n",
    "ax.set_xlabel('Gender')\n",
    "ax.set_ylabel('Number of Dogs')\n",
    "plt.tight_layout()\n",
    "plt.show()"
   ]
  },
  {
   "cell_type": "code",
   "execution_count": null,
   "metadata": {},
   "outputs": [],
   "source": []
  },
  {
   "cell_type": "code",
   "execution_count": null,
   "metadata": {},
   "outputs": [],
   "source": []
  }
 ],
 "metadata": {
  "kernelspec": {
   "display_name": "Python 3",
   "language": "python",
   "name": "python3"
  },
  "language_info": {
   "codemirror_mode": {
    "name": "ipython",
    "version": 3
   },
   "file_extension": ".py",
   "mimetype": "text/x-python",
   "name": "python",
   "nbconvert_exporter": "python",
   "pygments_lexer": "ipython3",
   "version": "3.8.3"
  }
 },
 "nbformat": 4,
 "nbformat_minor": 4
}
